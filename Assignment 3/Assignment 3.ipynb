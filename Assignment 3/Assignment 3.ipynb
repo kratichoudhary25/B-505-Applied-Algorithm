{
 "cells": [
  {
   "cell_type": "markdown",
   "id": "9c8dde36",
   "metadata": {},
   "source": [
    "# QUESTION 1"
   ]
  },
  {
   "cell_type": "code",
   "execution_count": 1,
   "id": "14a049d5",
   "metadata": {},
   "outputs": [],
   "source": [
    "def commands_count(List):\n",
    "    def comm(i):\n",
    "        index = int()\n",
    "        if i == \"cp\":\n",
    "            index = 0\n",
    "        elif i == \"ls\":\n",
    "            index = 1\n",
    "        elif i == \"mv\":\n",
    "            index = 2\n",
    "        else:\n",
    "            index = i.split(\"!\")\n",
    "            index = (len(List)%ind)-1\n",
    "\n",
    "        return index\n",
    "    \n",
    "    count = [0,0,0]\n",
    "    l = [\"cp\",\"ls\",\"mv\"]\n",
    "    \n",
    "    for i in range(len(List)):\n",
    "        \n",
    "        if List[i] not in l:\n",
    "            x = List[i].split(\"!\")\n",
    "            ind = int(x[1]) \n",
    "            count[comm(List[ind-1])] += 1\n",
    "            \n",
    "        else:\n",
    "            count[comm(List[i])] += 1\n",
    "\n",
    "        \n",
    "    return count"
   ]
  },
  {
   "cell_type": "code",
   "execution_count": 2,
   "id": "9fe33eef",
   "metadata": {
    "scrolled": true
   },
   "outputs": [
    {
     "data": {
      "text/plain": [
       "[1, 3, 4]"
      ]
     },
     "execution_count": 2,
     "metadata": {},
     "output_type": "execute_result"
    }
   ],
   "source": [
    "commands_count([\"ls\", \"cp\", \"mv\", \"mv\", \"mv\", \"!1\", \"!3\", \"!6\"])"
   ]
  },
  {
   "cell_type": "markdown",
   "id": "ae747242",
   "metadata": {},
   "source": [
    "# QUESTION 4"
   ]
  },
  {
   "cell_type": "code",
   "execution_count": 23,
   "id": "96508328",
   "metadata": {},
   "outputs": [],
   "source": [
    "from collections import Counter\n",
    "def predict_winner(s):\n",
    "    n = len(s)\n",
    "    i = 0\n",
    "    x = Counter(s)\n",
    "    qA = ['A']*x['A']\n",
    "    qO = ['O']*x['O']\n",
    "    \n",
    "    while n>1:\n",
    "        if s[i] == 'A' and len(qO)>0:\n",
    "            qO.pop()\n",
    "         \n",
    "        elif s[i] =='O' and  len(qA)>0:\n",
    "            qA.pop()\n",
    "\n",
    "        n -= 1\n",
    "        i+=1\n",
    "        \n",
    "    q = qA+qO\n",
    "    \n",
    "    if q[0] == 'A':\n",
    "        return \"Apple\"\n",
    "    elif q[0] =='O':\n",
    "        return \"Orange\""
   ]
  },
  {
   "cell_type": "code",
   "execution_count": 31,
   "id": "33b9af8a",
   "metadata": {},
   "outputs": [
    {
     "data": {
      "text/plain": [
       "'Orange'"
      ]
     },
     "execution_count": 31,
     "metadata": {},
     "output_type": "execute_result"
    }
   ],
   "source": [
    "predict_winner(\"OA\")"
   ]
  },
  {
   "cell_type": "code",
   "execution_count": null,
   "id": "36cd4132",
   "metadata": {},
   "outputs": [],
   "source": []
  }
 ],
 "metadata": {
  "kernelspec": {
   "display_name": "Python 3 (ipykernel)",
   "language": "python",
   "name": "python3"
  },
  "language_info": {
   "codemirror_mode": {
    "name": "ipython",
    "version": 3
   },
   "file_extension": ".py",
   "mimetype": "text/x-python",
   "name": "python",
   "nbconvert_exporter": "python",
   "pygments_lexer": "ipython3",
   "version": "3.9.7"
  }
 },
 "nbformat": 4,
 "nbformat_minor": 5
}
