{
 "cells": [
  {
   "cell_type": "markdown",
   "id": "01535649",
   "metadata": {},
   "source": [
    "# QUESTION 1"
   ]
  },
  {
   "cell_type": "code",
   "execution_count": 62,
   "id": "dd53e47c",
   "metadata": {},
   "outputs": [],
   "source": [
    "class amor_dict():\n",
    "    n2 = []\n",
    "    dic = {}\n",
    "    def __init__(self,num_list):\n",
    "        self.num_list = num_list\n",
    "        self.dic_create(num_list)\n",
    "        amor_dict.n2 = []\n",
    "        amor_dict.dic \n",
    "        \n",
    "    def dic_create(self,nm):\n",
    "        bit = list(bin(len(nm))[-1:1:-1])\n",
    "        bit = [int(x) for x in bit]\n",
    "        n = nm\n",
    "        merge_elem = []\n",
    "        dic = amor_dict.dic\n",
    "        print('bit:',bit)\n",
    "        for i in range(len(bit)):\n",
    "            dic[i] = 'empty'\n",
    "            \n",
    "            if bit[i] == 1:\n",
    "                x = 2**i\n",
    "                dic[i] = sorted(n[:x])\n",
    "                n = n[x:]\n",
    "                bit[i]+=1\n",
    "                \n",
    "            elif bit[i] == 2:\n",
    "                dic[i].append(nm)\n",
    "                merge_elem.append(dic[i])\n",
    "                dic[i] = 'empty'\n",
    "                self.dic_create(merge_elem)\n",
    "                \n",
    "    def insert(self,num):\n",
    "        n1 = self.num_list\n",
    "        amor_dict.n2.insert(0,num)\n",
    "        print('before:',amor_dict.n2)\n",
    "        sorted(amor_dict.n2)\n",
    "        print(amor_dict.n2)\n",
    "        n1 = amor_dict.n2+n1\n",
    "        n_new = n1\n",
    "        \n",
    "        if len(n1)==len(amor_dict.n2):\n",
    "            n_new = n1+amor_dict.n2\n",
    "            sorted(n_new)\n",
    "        print(n_new)\n",
    "        return self.dic_create(n_new)\n",
    "        \n",
    "    def print(self):\n",
    "        print(amor_dict.dic)\n",
    "        \n",
    "    def search(self,num):\n",
    "        for key,val in amor_dict.dic.items():\n",
    "\n",
    "            if val == 'empty':\n",
    "                continue\n",
    "\n",
    "            elif num in val:\n",
    "                x = key\n",
    "                break\n",
    "            else:\n",
    "                x = None\n",
    "\n",
    "        if x != None:\n",
    "            return print(\"level\",x)\n",
    "        else:\n",
    "            return -1"
   ]
  },
  {
   "cell_type": "code",
   "execution_count": 63,
   "id": "d887a634",
   "metadata": {
    "scrolled": true
   },
   "outputs": [
    {
     "name": "stdout",
     "output_type": "stream",
     "text": [
      "bit: [0, 0, 1]\n"
     ]
    }
   ],
   "source": [
    "am = amor_dict([1,2,3,4])"
   ]
  },
  {
   "cell_type": "code",
   "execution_count": 64,
   "id": "39c17193",
   "metadata": {},
   "outputs": [
    {
     "name": "stdout",
     "output_type": "stream",
     "text": [
      "level 2\n"
     ]
    }
   ],
   "source": [
    "am.search(4)"
   ]
  },
  {
   "cell_type": "code",
   "execution_count": 65,
   "id": "ca11de70",
   "metadata": {},
   "outputs": [
    {
     "name": "stdout",
     "output_type": "stream",
     "text": [
      "{0: 'empty', 1: 'empty', 2: [1, 2, 3, 4]}\n"
     ]
    }
   ],
   "source": [
    "am.print()"
   ]
  },
  {
   "cell_type": "code",
   "execution_count": 66,
   "id": "acbf6737",
   "metadata": {},
   "outputs": [
    {
     "name": "stdout",
     "output_type": "stream",
     "text": [
      "before: [11]\n",
      "[11]\n",
      "[11, 1, 2, 3, 4]\n",
      "bit: [1, 0, 1]\n"
     ]
    }
   ],
   "source": [
    "am.insert(11)"
   ]
  },
  {
   "cell_type": "code",
   "execution_count": 67,
   "id": "2c75fcc9",
   "metadata": {},
   "outputs": [
    {
     "name": "stdout",
     "output_type": "stream",
     "text": [
      "{0: [11], 1: 'empty', 2: [1, 2, 3, 4]}\n"
     ]
    }
   ],
   "source": [
    "am.print()"
   ]
  },
  {
   "cell_type": "code",
   "execution_count": 68,
   "id": "1b18263f",
   "metadata": {},
   "outputs": [
    {
     "name": "stdout",
     "output_type": "stream",
     "text": [
      "before: [77, 11]\n",
      "[77, 11]\n",
      "[77, 11, 1, 2, 3, 4]\n",
      "bit: [0, 1, 1]\n"
     ]
    }
   ],
   "source": [
    "am.insert(77)"
   ]
  },
  {
   "cell_type": "code",
   "execution_count": 69,
   "id": "db242edf",
   "metadata": {},
   "outputs": [
    {
     "name": "stdout",
     "output_type": "stream",
     "text": [
      "{0: 'empty', 1: [11, 77], 2: [1, 2, 3, 4]}\n"
     ]
    }
   ],
   "source": [
    "am.print()"
   ]
  },
  {
   "cell_type": "code",
   "execution_count": 70,
   "id": "2ea13f87",
   "metadata": {},
   "outputs": [
    {
     "name": "stdout",
     "output_type": "stream",
     "text": [
      "before: [74, 77, 11]\n",
      "[74, 77, 11]\n",
      "[74, 77, 11, 1, 2, 3, 4]\n",
      "bit: [1, 1, 1]\n"
     ]
    }
   ],
   "source": [
    "am.insert(74)"
   ]
  },
  {
   "cell_type": "code",
   "execution_count": 71,
   "id": "6000b4bc",
   "metadata": {},
   "outputs": [
    {
     "name": "stdout",
     "output_type": "stream",
     "text": [
      "{0: [74], 1: [11, 77], 2: [1, 2, 3, 4]}\n"
     ]
    }
   ],
   "source": [
    "am.print()"
   ]
  },
  {
   "cell_type": "code",
   "execution_count": 72,
   "id": "392b836c",
   "metadata": {},
   "outputs": [
    {
     "name": "stdout",
     "output_type": "stream",
     "text": [
      "level 1\n"
     ]
    }
   ],
   "source": [
    "am.search(77)"
   ]
  },
  {
   "cell_type": "code",
   "execution_count": 73,
   "id": "ffed516a",
   "metadata": {},
   "outputs": [
    {
     "name": "stdout",
     "output_type": "stream",
     "text": [
      "before: [10, 74, 77, 11]\n",
      "[10, 74, 77, 11]\n",
      "[10, 74, 77, 11, 1, 2, 3, 4]\n",
      "bit: [0, 0, 0, 1]\n"
     ]
    }
   ],
   "source": [
    "am.insert(10)"
   ]
  },
  {
   "cell_type": "code",
   "execution_count": 74,
   "id": "091d7a95",
   "metadata": {},
   "outputs": [
    {
     "name": "stdout",
     "output_type": "stream",
     "text": [
      "{0: 'empty', 1: 'empty', 2: 'empty', 3: [1, 2, 3, 4, 10, 11, 74, 77]}\n"
     ]
    }
   ],
   "source": [
    "am.print()"
   ]
  },
  {
   "cell_type": "markdown",
   "id": "2a376284",
   "metadata": {},
   "source": [
    "# QUESTION 2"
   ]
  },
  {
   "cell_type": "code",
   "execution_count": 84,
   "id": "aa668eca",
   "metadata": {},
   "outputs": [],
   "source": [
    "def count_digit_string(n):\n",
    "    def count(n):\n",
    "            if n == 1:\n",
    "                return \"1\"\n",
    "            string = \"\"\n",
    "            result = count(n-1)\n",
    "            x = 0\n",
    "            y = x\n",
    "            while y < len(result):\n",
    "                while y < len(result) and result[x] == result[y]:\n",
    "                    y += 1\n",
    "                tmp = y - x\n",
    "                string += str(tmp)\n",
    "                string += str(result[x])\n",
    "                x = y\n",
    "            return string\n",
    "    return count(n)"
   ]
  },
  {
   "cell_type": "code",
   "execution_count": 85,
   "id": "f0ca6a4b",
   "metadata": {},
   "outputs": [
    {
     "data": {
      "text/plain": [
       "'1211'"
      ]
     },
     "execution_count": 85,
     "metadata": {},
     "output_type": "execute_result"
    }
   ],
   "source": [
    "count_digit_string(4)"
   ]
  },
  {
   "cell_type": "code",
   "execution_count": null,
   "id": "c2124f7d",
   "metadata": {},
   "outputs": [],
   "source": []
  }
 ],
 "metadata": {
  "kernelspec": {
   "display_name": "Python 3 (ipykernel)",
   "language": "python",
   "name": "python3"
  },
  "language_info": {
   "codemirror_mode": {
    "name": "ipython",
    "version": 3
   },
   "file_extension": ".py",
   "mimetype": "text/x-python",
   "name": "python",
   "nbconvert_exporter": "python",
   "pygments_lexer": "ipython3",
   "version": "3.9.7"
  }
 },
 "nbformat": 4,
 "nbformat_minor": 5
}
