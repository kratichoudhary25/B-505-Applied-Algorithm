{
 "cells": [
  {
   "cell_type": "markdown",
   "id": "3c3bf57e",
   "metadata": {},
   "source": [
    "# QUESTION 1"
   ]
  },
  {
   "cell_type": "code",
   "execution_count": 1,
   "id": "cb896c8a",
   "metadata": {},
   "outputs": [],
   "source": [
    "# Allowed functions\n",
    "def function1(a,b):\n",
    "    return a+b\n",
    "\n",
    "def function2(a,b):\n",
    "    return a*b\n",
    "\n",
    "def function3(a,b):\n",
    "    return int(str(a)+str(b))\n",
    "\n",
    "# Finding minimum ones\n",
    "def min_ones(n):\n",
    "    l = []\n",
    "    \n",
    "    for i in range(n+1):\n",
    "        l.append(i)\n",
    "    \n",
    "    for i in range(1,n+1):\n",
    "        for j in range(1,n+1):\n",
    "            if function2(i,j) <= n:\n",
    "                l[function2(i,j)] = min(function1(i,j),l[function2(i,j)])\n",
    "    \n",
    "    for i in range(1,n+1):\n",
    "        l[i]=min(l[i-1]+1,l[i])\n",
    "    \n",
    "    for i in range(1,n+1):\n",
    "        for j in range(1,n+1):\n",
    "            if function3(i,j) <= n:\n",
    "                l[function3(i,j)] = min(function2(l[i],l[j]),l[function3(i,j)])\n",
    "    return l[-1]"
   ]
  },
  {
   "cell_type": "code",
   "execution_count": 2,
   "id": "c5bbfb7c",
   "metadata": {},
   "outputs": [
    {
     "data": {
      "text/plain": [
       "4"
      ]
     },
     "execution_count": 2,
     "metadata": {},
     "output_type": "execute_result"
    }
   ],
   "source": [
    "min_ones(22)"
   ]
  },
  {
   "cell_type": "markdown",
   "id": "d3b8d77f",
   "metadata": {},
   "source": [
    "# QUESTION 2"
   ]
  },
  {
   "cell_type": "code",
   "execution_count": 1,
   "id": "b909fb46",
   "metadata": {},
   "outputs": [],
   "source": [
    "# getting indexes of the RIGHT, LEFT, TOP, BOTTOM elements\n",
    "def adjacent_elems(x,y):    \n",
    "    return [(x-1,y),(x+1,y),(x,y-1),(x,y+1)]\n",
    "\n",
    "# function to create DP table\n",
    "def DP_Table(grid,visited,i,j,table):\n",
    "    \n",
    "    if table[i][j]!=-1:\n",
    "        return table[i][j]\n",
    "       \n",
    "    x=adjacent_elems(i,j)\n",
    "    \n",
    "   # print(grid[i][j])    \n",
    "   # print(x)    \n",
    "    \n",
    "    visited[i][j]=True\n",
    "    \n",
    "    k=0\n",
    "    for n in x:\n",
    "        #print(n[0],n[1])\n",
    "        if valid_spaces(n[0],n[1],grid,i,j):\n",
    "            k=max(DP_Table(grid,visited,n[0],n[1],table)+1,k)\n",
    "          #  print(grid[n[0]][n[1]])\n",
    "                   \n",
    "    visited[i][j]=False  \n",
    "    \n",
    "    table[i][j]=k\n",
    "    \n",
    " #   print(i,j)\n",
    "            \n",
    "    return k\n",
    "\n",
    "# checking if an adjacent element is valid to move\n",
    "def valid_spaces(x,y,grid,a,b):\n",
    "    if x>=0 and x<len(grid) and y>=0 and y<len(grid[0]):\n",
    "        if grid[x][y]>grid[a][b]:\n",
    "            return True\n",
    "        return False\n",
    "    return False\n",
    "\n",
    "def max_steps(grid):\n",
    "\n",
    "    table = [[-1 for j in range(len(grid))] for i in range(len(grid[0]))]\n",
    "    visited = [[False for j in range(len(grid))] for i in range(len(grid[0]))]\n",
    "    \n",
    "    m=-1\n",
    "    \n",
    "    for i in range(0,len(grid)):\n",
    "        for j in range(0,len(grid[0])):\n",
    "            if not visited[i][j]:\n",
    "                #print(\"Start\")\n",
    "                #print(table)\n",
    "                m=max(DP_Table(grid,visited,i,j,table),m)\n",
    "                #print(table)\n",
    "               \n",
    "    return m"
   ]
  },
  {
   "cell_type": "code",
   "execution_count": 2,
   "id": "67c9e8ea",
   "metadata": {},
   "outputs": [
    {
     "data": {
      "text/plain": [
       "4"
      ]
     },
     "execution_count": 2,
     "metadata": {},
     "output_type": "execute_result"
    }
   ],
   "source": [
    "max_steps([['t', 'o', 'y'], ['c', 'a', 't'], ['t', 'o', 'p']])"
   ]
  },
  {
   "cell_type": "markdown",
   "id": "4b9c95c9",
   "metadata": {},
   "source": [
    "# QUESTION 3"
   ]
  },
  {
   "cell_type": "code",
   "execution_count": 7,
   "id": "7a4483bf",
   "metadata": {},
   "outputs": [],
   "source": [
    "def get_max_coconuts(arr):\n",
    "    n = len(arr)\n",
    "    #Creating matrix\n",
    "    mat = [[0 for i in range(2)] for j in range(n)]\n",
    "    \n",
    "   # print(mat)\n",
    "    if (n == 1):\n",
    "        return arr[0]\n",
    "   \n",
    "    # Initialize the matrix\n",
    "    mat[0][0] = 0\n",
    "    mat[0][1] = arr[0]\n",
    "    \n",
    "    # Filling the matrix\n",
    "    for i in range(1,n):\n",
    "       # print(i)\n",
    "        #print(mat[i-1][0])\n",
    "        #print(arr[i])\n",
    "        mat[i][1] = mat[i - 1][0] + arr[i]\n",
    "        #print(mat)\n",
    "        mat[i][0] = max(mat[i - 1][1], mat[i - 1][0])\n",
    "    #print(mat)\n",
    "\n",
    "    return max(mat[n - 1][0], mat[n - 1][1])"
   ]
  },
  {
   "cell_type": "code",
   "execution_count": 8,
   "id": "53a9fe06",
   "metadata": {
    "scrolled": true
   },
   "outputs": [
    {
     "data": {
      "text/plain": [
       "12"
      ]
     },
     "execution_count": 8,
     "metadata": {},
     "output_type": "execute_result"
    }
   ],
   "source": [
    "get_max_coconuts([2,7,9,3,1])"
   ]
  },
  {
   "cell_type": "markdown",
   "id": "84188cc4",
   "metadata": {},
   "source": [
    "# QUESTION 4"
   ]
  },
  {
   "cell_type": "code",
   "execution_count": 9,
   "id": "714d3eca",
   "metadata": {},
   "outputs": [],
   "source": [
    "def subset_divisible(target, nums):\n",
    "    \n",
    "    #DP table\n",
    "    mat = [[0] * (target + 1) for _ in range(len(nums) + 1)]\n",
    "    #print(mat)\n",
    "    for i in range(len(nums) + 1):\n",
    "     #   print(mat[i])\n",
    "        mat[i][0] = set()\n",
    "    \n",
    "    # Creating dp table\n",
    "    for ct in range(1, target + 1):\n",
    "        for i in range(len(nums)):\n",
    "            # if the previous index is not 0 curr elem = prev elem\n",
    "            if i - 1 >= 0:\n",
    "                mat[i][ct] = mat[i - 1][ct]\n",
    "                \n",
    "            # if the value of current element is greater than zero \n",
    "            #i.e. there could be an element in the imput array\n",
    "            #which when added to the current element would give the target element\n",
    "            if ct - nums[i] >= 0:\n",
    "                prev = mat[i - 1][ct - nums[i]]\n",
    "                if prev != 0:\n",
    "                    mat[i][ct] = prev | set([i]) #comparison pipe operator\n",
    "\n",
    "    f = mat[len(nums) - 1][target]\n",
    "    \n",
    "    if f == 0:\n",
    "        return []\n",
    "    else:\n",
    "        return [nums[i] for i in f]"
   ]
  },
  {
   "cell_type": "code",
   "execution_count": 10,
   "id": "4b6496a7",
   "metadata": {
    "scrolled": true
   },
   "outputs": [
    {
     "data": {
      "text/plain": [
       "[1, 5]"
      ]
     },
     "execution_count": 10,
     "metadata": {},
     "output_type": "execute_result"
    }
   ],
   "source": [
    "subset_divisible(6,[3,1,7,5])"
   ]
  },
  {
   "cell_type": "code",
   "execution_count": 23,
   "id": "2c46dd55",
   "metadata": {},
   "outputs": [
    {
     "data": {
      "text/plain": [
       "[]"
      ]
     },
     "execution_count": 23,
     "metadata": {},
     "output_type": "execute_result"
    }
   ],
   "source": [
    "subset_divisible(5,[1,6])"
   ]
  },
  {
   "cell_type": "markdown",
   "id": "b3024215",
   "metadata": {},
   "source": [
    "# QUESTION 5"
   ]
  },
  {
   "cell_type": "code",
   "execution_count": 11,
   "id": "55806fc9",
   "metadata": {},
   "outputs": [],
   "source": [
    "def get_max_sbstr(s,c1,c2):\n",
    "    #c1c2 string\n",
    "    sub = c1+c2\n",
    "    pos = []\n",
    "    m_pos = []\n",
    "    \n",
    "    #if there are no elements in s return 0\n",
    "    if len(s) == 0:\n",
    "        return 0\n",
    "    \n",
    "    #adding c1 to every position of s and counting the number of c1c2 in it after adding\n",
    "    for i in range(len(s)):\n",
    "        cf = 0\n",
    "        cs = 0\n",
    "        pos.append(s[:i]+c1+s[i:])\n",
    "        if c1 in pos[i]:\n",
    "            cf = pos[i].count(c1)\n",
    "        if c2 in pos[i]:\n",
    "            cs = pos[i].count(c2)\n",
    "        if cf!=0 and cs!= 0:\n",
    "            m_pos.append(cf*cs)\n",
    "        else:\n",
    "            m_pos.append(0)\n",
    "    \n",
    "    #adding c2 to every position of s and counting the number of c1c2 in it after adding\n",
    "    for i in range(len(s)):    \n",
    "        pos.append(s[:i]+c2+s[i:])\n",
    "        #print(len(pos))\n",
    "        cf = 0\n",
    "        cs = 0\n",
    "        if c1 in pos[len(pos)-1]:\n",
    "            cf = pos[len(pos)-1].count(c1)\n",
    "        if c2 in pos[len(pos)-1]:\n",
    "            cs = pos[len(pos)-1].count(c2)\n",
    "        if cf !=0 and cs!=0:\n",
    "            m_pos.append(cf*cs)\n",
    "        else:\n",
    "            m_pos.append(0)\n",
    "        #print(m_pos)\n",
    "        \n",
    "    #print(pos)\n",
    "    #print(m_pos)\n",
    "    return max(m_pos)"
   ]
  },
  {
   "cell_type": "code",
   "execution_count": 12,
   "id": "42578b1b",
   "metadata": {},
   "outputs": [
    {
     "data": {
      "text/plain": [
       "4"
      ]
     },
     "execution_count": 12,
     "metadata": {},
     "output_type": "execute_result"
    }
   ],
   "source": [
    "get_max_sbstr(\"bcedecd\",'b','d')"
   ]
  },
  {
   "cell_type": "markdown",
   "id": "1c442b3d",
   "metadata": {},
   "source": [
    "# QUESTION 6"
   ]
  },
  {
   "cell_type": "code",
   "execution_count": 13,
   "id": "59cb96a6",
   "metadata": {},
   "outputs": [],
   "source": [
    "def num_passwords(digit_list):\n",
    "    #creating a zero array\n",
    "    mat = [0]*len(digit_list)\n",
    "    #initializing the first element as a list of the first element of the imput array\n",
    "    mat[0] = [[digit_list[0]]]\n",
    "    \n",
    "    #appending all possible unique combinations\n",
    "    for i in range(1,len(digit_list)):\n",
    "        mat[i] = []\n",
    "        for j in mat[i-1]:\n",
    "            mat[i].append(j)\n",
    "            mat[i].append(j+[digit_list[i]])\n",
    "        mat[i].append([digit_list[i]])\n",
    "    valid = mat[0]\n",
    "    \n",
    "    #checking validity and appending the valid passwords\n",
    "    for i in mat[len(digit_list)-1]:\n",
    "        if i not in valid:\n",
    "            valid.append(i)\n",
    "            \n",
    "    return len(valid)"
   ]
  },
  {
   "cell_type": "code",
   "execution_count": 14,
   "id": "28e58d2e",
   "metadata": {},
   "outputs": [
    {
     "name": "stdout",
     "output_type": "stream",
     "text": [
      "13\n"
     ]
    }
   ],
   "source": [
    "nums = [1, 2, 1, 3]\n",
    "print(num_passwords(nums))"
   ]
  },
  {
   "cell_type": "code",
   "execution_count": null,
   "id": "cab9f0dd",
   "metadata": {},
   "outputs": [],
   "source": []
  }
 ],
 "metadata": {
  "kernelspec": {
   "display_name": "Python 3 (ipykernel)",
   "language": "python",
   "name": "python3"
  },
  "language_info": {
   "codemirror_mode": {
    "name": "ipython",
    "version": 3
   },
   "file_extension": ".py",
   "mimetype": "text/x-python",
   "name": "python",
   "nbconvert_exporter": "python",
   "pygments_lexer": "ipython3",
   "version": "3.9.7"
  }
 },
 "nbformat": 4,
 "nbformat_minor": 5
}
