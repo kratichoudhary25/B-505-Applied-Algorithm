{
 "cells": [
  {
   "cell_type": "markdown",
   "id": "bcd4ed1b",
   "metadata": {},
   "source": [
    "# QUESTION 1"
   ]
  },
  {
   "cell_type": "code",
   "execution_count": 1,
   "id": "f18836b8",
   "metadata": {},
   "outputs": [],
   "source": [
    "def count_prime_letters(n):\n",
    "    word = {0:4,1:3,2:3,3:5,4:4,5:4,6:3,7:5,8:5,9:4,11:6,13:8,17:9,19:8,20:6,30:6,40:6,50:5,60:5,70:7,80:6,90:6}\n",
    "    count = 0\n",
    "    if n==2:\n",
    "        count = 3\n",
    "    elif n>2:\n",
    "        for i in range(2,n):\n",
    "            f = 0\n",
    "            for nums in range(2,i):\n",
    "                if i%nums == 0:\n",
    "                    f = 1\n",
    "            if f == 0:\n",
    "                if word[i]>9:\n",
    "                    ones = word[i]%10\n",
    "                    tens = word[i]-word[i]%10\n",
    "                    count += word[tens]\n",
    "                    count += word[ones]\n",
    "                else:\n",
    "                    count+=word[i]             \n",
    "    return count\n",
    "                    "
   ]
  },
  {
   "cell_type": "code",
   "execution_count": 2,
   "id": "37477872",
   "metadata": {},
   "outputs": [
    {
     "data": {
      "text/plain": [
       "23"
      ]
     },
     "execution_count": 2,
     "metadata": {},
     "output_type": "execute_result"
    }
   ],
   "source": [
    "count_prime_letters(12)"
   ]
  },
  {
   "cell_type": "markdown",
   "id": "451378a5",
   "metadata": {},
   "source": [
    "# QUESTION 2"
   ]
  },
  {
   "cell_type": "code",
   "execution_count": 3,
   "id": "8acdd916",
   "metadata": {},
   "outputs": [],
   "source": [
    "import math\n",
    "def get_squared_sum(M,N):\n",
    "    summ = 0\n",
    "    while M>0:\n",
    "        summ = 0\n",
    "        for i in range(N+1):\n",
    "            root = int(math.sqrt(i))\n",
    "            if root**2==i:\n",
    "                summ += i\n",
    "        N = summ\n",
    "        M-=1\n",
    "    \n",
    "    return summ"
   ]
  },
  {
   "cell_type": "code",
   "execution_count": 4,
   "id": "b20f72d0",
   "metadata": {},
   "outputs": [
    {
     "data": {
      "text/plain": [
       "55"
      ]
     },
     "execution_count": 4,
     "metadata": {},
     "output_type": "execute_result"
    }
   ],
   "source": [
    "get_squared_sum(2,20)"
   ]
  },
  {
   "cell_type": "markdown",
   "id": "9e2e09b9",
   "metadata": {},
   "source": [
    "# QUESTION 3"
   ]
  },
  {
   "cell_type": "code",
   "execution_count": 5,
   "id": "7c2b1d99",
   "metadata": {},
   "outputs": [],
   "source": [
    "def check_bit(N):\n",
    "    bit_rep = bin(N)\n",
    "    bit_rep = list(bit_rep)\n",
    "    bit_rep = bit_rep[2:]\n",
    "    \n",
    "    for i in range(len(bit_rep)):\n",
    "        bit_rep[i] = int(bit_rep[i])\n",
    "    \n",
    "    flag = 0\n",
    "    pos = -1\n",
    "    count = 0\n",
    "    for i in bit_rep:\n",
    "        count+=1\n",
    "        if i == 1:\n",
    "            flag+=1\n",
    "            if flag == 2:\n",
    "                pos = count\n",
    "    return pos       "
   ]
  },
  {
   "cell_type": "code",
   "execution_count": 6,
   "id": "9ab173cc",
   "metadata": {},
   "outputs": [
    {
     "data": {
      "text/plain": [
       "2"
      ]
     },
     "execution_count": 6,
     "metadata": {},
     "output_type": "execute_result"
    }
   ],
   "source": [
    "check_bit(3)"
   ]
  },
  {
   "cell_type": "markdown",
   "id": "42836584",
   "metadata": {},
   "source": [
    "# QUESTION 4"
   ]
  },
  {
   "cell_type": "code",
   "execution_count": 7,
   "id": "f9c82108",
   "metadata": {},
   "outputs": [],
   "source": [
    "def find_multiple(n):\n",
    "    multi = 1001\n",
    "    n = str(n)\n",
    "    div=n+n\n",
    "    return div\n",
    "\n",
    "\n",
    "#Explaination:\n",
    "#Since 7*11*13 = 1001\n",
    "#and to find a number that is perfectly divisible by 7,11,13, and n we just have to multiply 7*11*13*n\n",
    "#but since we are not allowed to use * operator and there is a pattern while multiplying n with 1001\n",
    "#which is that we get n twice.\n",
    "\n",
    "#For example -\n",
    "#1001*101 = 101101\n",
    "\n"
   ]
  },
  {
   "cell_type": "code",
   "execution_count": 8,
   "id": "e227da41",
   "metadata": {},
   "outputs": [
    {
     "data": {
      "text/plain": [
       "'121121'"
      ]
     },
     "execution_count": 8,
     "metadata": {},
     "output_type": "execute_result"
    }
   ],
   "source": [
    "find_multiple(121)"
   ]
  },
  {
   "cell_type": "markdown",
   "id": "68e13282",
   "metadata": {},
   "source": [
    "# QUESTION 5"
   ]
  },
  {
   "cell_type": "code",
   "execution_count": 9,
   "id": "56d00945",
   "metadata": {},
   "outputs": [],
   "source": [
    "def find_the_winner(matches_won ,matches_drawn , goals_scored):\n",
    "    total_points = []\n",
    "    for i in matches_won:\n",
    "        total_points.append(3*i)\n",
    "    \n",
    "    for j in range(len(matches_drawn)):\n",
    "        total_points[j] += matches_drawn[j]\n",
    "    \n",
    "    winner = total_points.index(max(total_points))\n",
    "    x = []\n",
    "    for i in range(len(total_points)):\n",
    "        if total_points[i] == total_points[winner]:\n",
    "            x.append(i)\n",
    "   \n",
    "    if len(x)>1:\n",
    "        winner = goals_scored.index(max(goals_scored))\n",
    "    \n",
    "    \n",
    "    return winner"
   ]
  },
  {
   "cell_type": "code",
   "execution_count": 10,
   "id": "0111e79d",
   "metadata": {},
   "outputs": [
    {
     "data": {
      "text/plain": [
       "2"
      ]
     },
     "execution_count": 10,
     "metadata": {},
     "output_type": "execute_result"
    }
   ],
   "source": [
    "find_the_winner([3,1,3,0],[0,1,0,1],[6,4,15,2])"
   ]
  },
  {
   "cell_type": "markdown",
   "id": "455e094f",
   "metadata": {},
   "source": [
    "# QUESTION 6"
   ]
  },
  {
   "cell_type": "code",
   "execution_count": 91,
   "id": "ee0d7188",
   "metadata": {},
   "outputs": [],
   "source": [
    "def decoded_String(S):\n",
    "\n",
    "    freq = {}\n",
    "    new = []\n",
    "    for i in S:\n",
    "        if i in freq:\n",
    "            freq[i] += 1\n",
    "        else:\n",
    "            freq[i] = 1\n",
    "        if(freq[i]%3!=0):\n",
    "            new.append(i)\n",
    "\n",
    "    x = ''.join(new)\n",
    "\n",
    "    return x"
   ]
  },
  {
   "cell_type": "code",
   "execution_count": 92,
   "id": "5930cf1c",
   "metadata": {},
   "outputs": [
    {
     "data": {
      "text/plain": [
       "'aaaa'"
      ]
     },
     "execution_count": 92,
     "metadata": {},
     "output_type": "execute_result"
    }
   ],
   "source": [
    "decoded_String('aaaaaa')"
   ]
  }
 ],
 "metadata": {
  "kernelspec": {
   "display_name": "Python 3 (ipykernel)",
   "language": "python",
   "name": "python3"
  },
  "language_info": {
   "codemirror_mode": {
    "name": "ipython",
    "version": 3
   },
   "file_extension": ".py",
   "mimetype": "text/x-python",
   "name": "python",
   "nbconvert_exporter": "python",
   "pygments_lexer": "ipython3",
   "version": "3.9.7"
  }
 },
 "nbformat": 4,
 "nbformat_minor": 5
}
