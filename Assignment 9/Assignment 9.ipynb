{
 "cells": [
  {
   "cell_type": "markdown",
   "id": "c0ac03c4",
   "metadata": {},
   "source": [
    "# PROBLEM 1"
   ]
  },
  {
   "cell_type": "code",
   "execution_count": 1,
   "id": "bb919421",
   "metadata": {},
   "outputs": [],
   "source": [
    "def can_color(adj_matrix):\n",
    "    # ------------ helper function to check if currently assigned colors are valid or not-------\n",
    "    def valid(curr,col):\n",
    "        for i in range(len(adj_matrix)):\n",
    "           # print('elem: ', adj_matrix[curr][i])\n",
    "            #print('col: ',col)\n",
    "            #print('col i: ',colored[i])\n",
    "            #print('')\n",
    "            if adj_matrix[curr][i] == 1 and colored[i] == col:\n",
    "                return False\n",
    "        return True\n",
    "    \n",
    "    # ------- recursive function to check whther the graph can be colored or not ---------\n",
    "    def coloring(curr):\n",
    "        if curr == len(adj_matrix):\n",
    "            return True\n",
    "        \n",
    "        for col in range(1,3):\n",
    "          #  print('curr: ', curr)\n",
    "           # print('col: ', col)\n",
    "           # print(colored)\n",
    "            \n",
    "            if valid(curr,col):\n",
    "                colored[curr] = col\n",
    "                if coloring(curr+1) == True:\n",
    "                    return True\n",
    "                colored[curr] = 0\n",
    "           # print('')  \n",
    "    colored = [0]*len(adj_matrix)\n",
    "    \n",
    "    if coloring(0) == None:\n",
    "        return False\n",
    "    \n",
    "    return True\n",
    " "
   ]
  },
  {
   "cell_type": "code",
   "execution_count": 2,
   "id": "440debc5",
   "metadata": {},
   "outputs": [
    {
     "data": {
      "text/plain": [
       "False"
      ]
     },
     "execution_count": 2,
     "metadata": {},
     "output_type": "execute_result"
    }
   ],
   "source": [
    "adj_matrix = [[0,1,1,0,0],[1,0,0,1,0],[1,0,0,0,1],[0,1,0,0,1],[0,0,1,1,0]]\n",
    "can_color(adj_matrix)"
   ]
  },
  {
   "cell_type": "code",
   "execution_count": 3,
   "id": "91a29cda",
   "metadata": {},
   "outputs": [
    {
     "data": {
      "text/plain": [
       "True"
      ]
     },
     "execution_count": 3,
     "metadata": {},
     "output_type": "execute_result"
    }
   ],
   "source": [
    "adj_matrix = [[0,1,1,0], [1,0,0,1], [1,0,0,1], [0,1,1,0]]\n",
    "can_color(adj_matrix)"
   ]
  },
  {
   "cell_type": "markdown",
   "id": "4c604929",
   "metadata": {},
   "source": [
    "# PROBLEM 2"
   ]
  },
  {
   "cell_type": "code",
   "execution_count": 4,
   "id": "f4a64174",
   "metadata": {},
   "outputs": [],
   "source": [
    "def all_routes_to_dest(n,connections,begin,end):\n",
    "    dests = []\n",
    "    starts = []\n",
    "    count = 0\n",
    "    \n",
    "    \n",
    "    # ------------ Covering all edge cases -------------\n",
    "    for path in range(len(connections)):\n",
    "       # print(connections[i][::-1])\n",
    "        if connections[path][0] == end or connections[path][1] == begin or (connections[path][::-1] in connections):\n",
    "            return False\n",
    "        \n",
    "         \n",
    "    # ------------- Finding if all posible paths lead to dest -----------\n",
    "        dests.append(connections[path][1]) \n",
    "        starts.append(connections[path][0])\n",
    "    \n",
    "    #print(starts)\n",
    "    #print(\"check 1\") \n",
    "    starts = list(set(starts))\n",
    "    dests = list(set(dests))\n",
    "    \n",
    "    if end not in dests or begin not in starts:\n",
    "        return False\n",
    "    \n",
    "    for i in range(len(dests)):\n",
    "        #print(connections[i][1])\n",
    "        if dests[i] not in starts:\n",
    "            count += 1\n",
    "         #   print(count)\n",
    "    if count>1:\n",
    "        return False\n",
    "    else:\n",
    "        return True"
   ]
  },
  {
   "cell_type": "code",
   "execution_count": 5,
   "id": "1fb66cbd",
   "metadata": {
    "scrolled": true
   },
   "outputs": [
    {
     "data": {
      "text/plain": [
       "False"
      ]
     },
     "execution_count": 5,
     "metadata": {},
     "output_type": "execute_result"
    }
   ],
   "source": [
    "all_routes_to_dest(4,[[0,1],[0,3],[1,2],[2,1]],0,3)"
   ]
  },
  {
   "cell_type": "code",
   "execution_count": 6,
   "id": "ed8cf839",
   "metadata": {
    "scrolled": true
   },
   "outputs": [
    {
     "data": {
      "text/plain": [
       "False"
      ]
     },
     "execution_count": 6,
     "metadata": {},
     "output_type": "execute_result"
    }
   ],
   "source": [
    "all_routes_to_dest(3,[[0,1],[0,2]],0,2)"
   ]
  },
  {
   "cell_type": "code",
   "execution_count": 7,
   "id": "41ac9197",
   "metadata": {},
   "outputs": [
    {
     "data": {
      "text/plain": [
       "False"
      ]
     },
     "execution_count": 7,
     "metadata": {},
     "output_type": "execute_result"
    }
   ],
   "source": [
    "all_routes_to_dest(5,[[0,1],[1,4],[3,4],[0,2],[2,1]],0,3)"
   ]
  },
  {
   "cell_type": "code",
   "execution_count": 8,
   "id": "6950686f",
   "metadata": {},
   "outputs": [
    {
     "data": {
      "text/plain": [
       "True"
      ]
     },
     "execution_count": 8,
     "metadata": {},
     "output_type": "execute_result"
    }
   ],
   "source": [
    "all_routes_to_dest(4,[[0,1],[0,2],[1,3],[2,3]],0,3)"
   ]
  },
  {
   "cell_type": "code",
   "execution_count": 9,
   "id": "7bbd6faa",
   "metadata": {},
   "outputs": [
    {
     "data": {
      "text/plain": [
       "False"
      ]
     },
     "execution_count": 9,
     "metadata": {},
     "output_type": "execute_result"
    }
   ],
   "source": [
    "all_routes_to_dest(5,[[0,1],[0,2],[2,1],[3,2],[4,0],[4,3]],4,2)"
   ]
  },
  {
   "cell_type": "code",
   "execution_count": 10,
   "id": "a8a66520",
   "metadata": {},
   "outputs": [
    {
     "data": {
      "text/plain": [
       "False"
      ]
     },
     "execution_count": 10,
     "metadata": {},
     "output_type": "execute_result"
    }
   ],
   "source": [
    "all_routes_to_dest(4,[[0,1],[1,2],[2,3]],0,4)"
   ]
  },
  {
   "cell_type": "markdown",
   "id": "4846bf87",
   "metadata": {},
   "source": [
    "# PROBLEM 3"
   ]
  },
  {
   "cell_type": "code",
   "execution_count": 51,
   "id": "782dcf20",
   "metadata": {},
   "outputs": [],
   "source": [
    "def checkCycle(arr):\n",
    "    counts = [0]*len(arr)\n",
    "    \n",
    "# counts[0] = 1\n",
    "    i = 0\n",
    "    j = 0\n",
    "    \n",
    "    if arr[0] == 0:\n",
    "        counts[0] = 0\n",
    "    else:\n",
    "        counts[0] = 1\n",
    "            \n",
    "    if len(arr) < 2:\n",
    "        return False\n",
    "    \n",
    "    while j<len(arr):\n",
    "        if arr[0] == 0:\n",
    "            if i == 0 and j != 0:\n",
    "                break\n",
    "        if abs(arr[i]) == len(arr):\n",
    "           # print(\"blabla\")\n",
    "            #return False\n",
    "            break\n",
    "        \n",
    "        if arr[i] > 0:\n",
    "            i += arr[i]\n",
    "            if i > len(arr)-1:\n",
    "                i = i - len(arr) \n",
    "            elif i < 0:\n",
    "                i = len(arr) + i\n",
    "                \n",
    "            #print('>0',i) \n",
    "            counts[i] += 1\n",
    "            \n",
    "        elif arr[i] < 0:\n",
    "            i += arr[i]\n",
    "            #print(\"i: \",i)\n",
    "            if i > len(arr)-1:\n",
    "                i = i - len(arr) - 1\n",
    "            elif i < 0:\n",
    "                i = len(arr) + i \n",
    "                \n",
    "            #print('<0',i)\n",
    "            counts[i] += 1\n",
    "        else:\n",
    "            if i == len(arr) - 1:\n",
    "                break\n",
    "            i += 1\n",
    "            if i>len(arr)-1:\n",
    "                i = i - len(arr) - 1\n",
    "            #print('=0',i)\n",
    "            continue\n",
    "        \n",
    "      #  print(i)\n",
    "        #print(counts)\n",
    "        \n",
    "        if counts[i] > 1:\n",
    "            #print('final: ',counts)\n",
    "          \n",
    "            return True\n",
    "        \n",
    "        j += 1\n",
    "    #print(counts)\n",
    "    return False"
   ]
  },
  {
   "cell_type": "code",
   "execution_count": 52,
   "id": "4398ecf9",
   "metadata": {},
   "outputs": [
    {
     "data": {
      "text/plain": [
       "False"
      ]
     },
     "execution_count": 52,
     "metadata": {},
     "output_type": "execute_result"
    }
   ],
   "source": [
    "checkCycle([0,1,2,3])"
   ]
  },
  {
   "cell_type": "code",
   "execution_count": 53,
   "id": "21cf8e17",
   "metadata": {
    "scrolled": true
   },
   "outputs": [
    {
     "data": {
      "text/plain": [
       "True"
      ]
     },
     "execution_count": 53,
     "metadata": {},
     "output_type": "execute_result"
    }
   ],
   "source": [
    "checkCycle([2, -1, 1, 2, 2])"
   ]
  },
  {
   "cell_type": "code",
   "execution_count": 54,
   "id": "a1d2e368",
   "metadata": {
    "scrolled": false
   },
   "outputs": [
    {
     "data": {
      "text/plain": [
       "True"
      ]
     },
     "execution_count": 54,
     "metadata": {},
     "output_type": "execute_result"
    }
   ],
   "source": [
    "checkCycle([1, -4, 2, -1, -3])"
   ]
  },
  {
   "cell_type": "code",
   "execution_count": 55,
   "id": "929c7f1c",
   "metadata": {},
   "outputs": [
    {
     "data": {
      "text/plain": [
       "True"
      ]
     },
     "execution_count": 55,
     "metadata": {},
     "output_type": "execute_result"
    }
   ],
   "source": [
    "checkCycle([0,1,-4])"
   ]
  },
  {
   "cell_type": "code",
   "execution_count": 56,
   "id": "63694f2b",
   "metadata": {
    "scrolled": false
   },
   "outputs": [
    {
     "data": {
      "text/plain": [
       "False"
      ]
     },
     "execution_count": 56,
     "metadata": {},
     "output_type": "execute_result"
    }
   ],
   "source": [
    "checkCycle([4,1,1,1])"
   ]
  },
  {
   "cell_type": "code",
   "execution_count": 57,
   "id": "aaa281e5",
   "metadata": {
    "scrolled": true
   },
   "outputs": [
    {
     "data": {
      "text/plain": [
       "True"
      ]
     },
     "execution_count": 57,
     "metadata": {},
     "output_type": "execute_result"
    }
   ],
   "source": [
    "checkCycle([1,-1,2,-2])"
   ]
  },
  {
   "cell_type": "code",
   "execution_count": 58,
   "id": "d6d8b087",
   "metadata": {
    "scrolled": true
   },
   "outputs": [
    {
     "data": {
      "text/plain": [
       "False"
      ]
     },
     "execution_count": 58,
     "metadata": {},
     "output_type": "execute_result"
    }
   ],
   "source": [
    "checkCycle([0, -2, 4, -3, 4, 1, 3, 6, -9])"
   ]
  },
  {
   "cell_type": "code",
   "execution_count": 59,
   "id": "510d52c8",
   "metadata": {},
   "outputs": [
    {
     "data": {
      "text/plain": [
       "False"
      ]
     },
     "execution_count": 59,
     "metadata": {},
     "output_type": "execute_result"
    }
   ],
   "source": [
    "checkCycle([1,1,0])"
   ]
  },
  {
   "cell_type": "markdown",
   "id": "bbc1c6f6",
   "metadata": {},
   "source": [
    "# PROBLEM 4"
   ]
  },
  {
   "cell_type": "code",
   "execution_count": 20,
   "id": "09899c5c",
   "metadata": {},
   "outputs": [],
   "source": [
    " def get_min_cost(n,costs):\n",
    "    connects = dict()\n",
    "    \n",
    "    # ---------- function for checking if a airport is connected already ----------\n",
    "    def parent(airport,connects):\n",
    "        if airport not in connects.keys():\n",
    "            connects[airport] = airport\n",
    "            return airport\n",
    "        else:\n",
    "            while connects[airport] != airport:\n",
    "                airport = connects[airport]\n",
    "            return airport\n",
    "\n",
    "    costs = sorted(costs,key=lambda x: x[2])\n",
    "    mincost  = 0\n",
    "\n",
    "    for flt1,flt2,cost in costs:\n",
    "        parent_flt1 = parent(flt1,connects)\n",
    "        parent_flt2 = parent(flt2,connects)   \n",
    "\n",
    "        if parent_flt1 == parent_flt2:\n",
    "            continue\n",
    "\n",
    "        else:\n",
    "            n -= 1\n",
    "            connects[parent_flt1] = parent_flt2\n",
    "            mincost += cost\n",
    "    \n",
    "        if n==1:\n",
    "            #print(connects)\n",
    "            return mincost\n",
    "    \n",
    "    #print(connects)\n",
    "    return -1"
   ]
  },
  {
   "cell_type": "code",
   "execution_count": 21,
   "id": "c89a6360",
   "metadata": {},
   "outputs": [
    {
     "data": {
      "text/plain": [
       "-1"
      ]
     },
     "execution_count": 21,
     "metadata": {},
     "output_type": "execute_result"
    }
   ],
   "source": [
    "get_min_cost(4,[[1,2,3],[3,4,4]])"
   ]
  },
  {
   "cell_type": "code",
   "execution_count": 22,
   "id": "9633294f",
   "metadata": {},
   "outputs": [
    {
     "data": {
      "text/plain": [
       "11"
      ]
     },
     "execution_count": 22,
     "metadata": {},
     "output_type": "execute_result"
    }
   ],
   "source": [
    "get_min_cost(3,[[1,2,4],[1,3,9],[2,3,7]])"
   ]
  },
  {
   "cell_type": "code",
   "execution_count": null,
   "id": "7f35dbae",
   "metadata": {},
   "outputs": [],
   "source": []
  }
 ],
 "metadata": {
  "kernelspec": {
   "display_name": "Python 3 (ipykernel)",
   "language": "python",
   "name": "python3"
  },
  "language_info": {
   "codemirror_mode": {
    "name": "ipython",
    "version": 3
   },
   "file_extension": ".py",
   "mimetype": "text/x-python",
   "name": "python",
   "nbconvert_exporter": "python",
   "pygments_lexer": "ipython3",
   "version": "3.9.7"
  }
 },
 "nbformat": 4,
 "nbformat_minor": 5
}
