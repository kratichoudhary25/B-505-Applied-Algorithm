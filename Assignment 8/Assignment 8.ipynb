{
 "cells": [
  {
   "cell_type": "markdown",
   "id": "05d82f4b",
   "metadata": {},
   "source": [
    "# Problem 1"
   ]
  },
  {
   "cell_type": "code",
   "execution_count": 1,
   "id": "ceacb2c5",
   "metadata": {},
   "outputs": [],
   "source": [
    "# Improve time complexity\n",
    "from collections import Counter\n",
    "import heapq\n",
    "\n",
    "def sorting(l):\n",
    "    heapq.heapify(l)\n",
    "    sort_arr = []\n",
    "    while l:\n",
    "        sort_arr.append(heapq.heappop(l))\n",
    "    \n",
    "    return sort_arr\n",
    "\n",
    "def maxEmployees(list1, list2):\n",
    "    times = sorting(list1+list2)\n",
    "    max_emp = []\n",
    "    curr_emp = 0\n",
    "    no_of_times = 0\n",
    "    both = set(list1).intersection(list2)\n",
    "    i = 1\n",
    "    while i<=times[-1]:\n",
    "        #print(\"i: \",i)\n",
    "        if i in both:\n",
    "            curr_emp += 1\n",
    "         #   print(\"curr_emp +-: \",curr_emp)\n",
    "            max_emp.append(curr_emp)\n",
    "          #  print(\"curr_emp +-: \",curr_emp)\n",
    "            curr_emp -= 1\n",
    "            max_emp.append(curr_emp)\n",
    "            i += 1\n",
    "            \n",
    "        elif i in list1:\n",
    "            curr_emp += 1\n",
    "           # print(\"curr_emp ++: \",curr_emp)\n",
    "            max_emp.append(curr_emp)\n",
    "            i += 1\n",
    "            \n",
    "        elif i in list2:\n",
    "            curr_emp -= 1\n",
    "            #print(\"curr_emp --: \",curr_emp)\n",
    "            max_emp.append(curr_emp)\n",
    "            i += 1\n",
    "            \n",
    "        else:\n",
    "            i += 1\n",
    "            \n",
    "        #print(\"max_emp: \", max_emp)\n",
    "        \n",
    "    return (max(max_emp), Counter(max_emp)[max(max_emp)])"
   ]
  },
  {
   "cell_type": "code",
   "execution_count": 2,
   "id": "4243f5b1",
   "metadata": {},
   "outputs": [
    {
     "data": {
      "text/plain": [
       "(3, 2)"
      ]
     },
     "execution_count": 2,
     "metadata": {},
     "output_type": "execute_result"
    }
   ],
   "source": [
    "maxEmployees([1, 2, 4, 7, 8, 12],[3, 7, 8, 12, 10, 15 ])"
   ]
  },
  {
   "cell_type": "code",
   "execution_count": null,
   "id": "6a1a8b70",
   "metadata": {},
   "outputs": [],
   "source": []
  },
  {
   "cell_type": "markdown",
   "id": "f5ee5aac",
   "metadata": {},
   "source": [
    "# Problem 2"
   ]
  },
  {
   "cell_type": "code",
   "execution_count": 3,
   "id": "614598c1",
   "metadata": {},
   "outputs": [],
   "source": [
    "def find_largest_integer(num: int):\n",
    "    # changing num to list\n",
    "    num_list = [int(j) for j in str(num)]\n",
    "    len_n = len(num_list)\n",
    "    #print(len_n)\n",
    "    ind1 = int()\n",
    "    for i in range(0,len_n-1):\n",
    "        if num_list[i] > num_list[i+1]:\n",
    "            ind1 = i\n",
    "            break\n",
    "        else:\n",
    "            ind1 = -1\n",
    "    #print(\"ind1: \", ind1)    \n",
    "    ind2 = -1\n",
    "    \n",
    "    for i in range(ind1,len_n-1):\n",
    "       # print(\"i \",i)\n",
    "        #print(\"li i :\", lis[i])\n",
    "        #print(\"li ind1: \", lis[ind1])\n",
    "        if ind1 > -1 :\n",
    "            if num_list[i] >= num_list[ind2]:\n",
    "                if num_list[i] < num_list[ind1]:\n",
    "                    ind2 = i\n",
    "        elif ind2 == -1:\n",
    "            if num_list[i] < num_list[ind1]:\n",
    "                ind2 = i\n",
    "        \n",
    "        \n",
    "       # print(\"ind2: \", lis[ind2])\n",
    "        \n",
    "    if ind1 != -1:\n",
    "        (num_list[ind1], num_list[ind2]) = (num_list[ind2],num_list[ind1])\n",
    "        x = int(\"\".join([str(i) for i in num_list]))\n",
    "        return int(x)\n",
    "    else:\n",
    "        return num"
   ]
  },
  {
   "cell_type": "code",
   "execution_count": 4,
   "id": "75b54b1f",
   "metadata": {},
   "outputs": [
    {
     "data": {
      "text/plain": [
       "343"
      ]
     },
     "execution_count": 4,
     "metadata": {},
     "output_type": "execute_result"
    }
   ],
   "source": [
    "find_largest_integer(433)"
   ]
  },
  {
   "cell_type": "code",
   "execution_count": 5,
   "id": "cfa258b0",
   "metadata": {},
   "outputs": [
    {
     "data": {
      "text/plain": [
       "527"
      ]
     },
     "execution_count": 5,
     "metadata": {},
     "output_type": "execute_result"
    }
   ],
   "source": [
    "find_largest_integer(572)"
   ]
  },
  {
   "cell_type": "markdown",
   "id": "7fd527ce",
   "metadata": {},
   "source": [
    "# Problem 3"
   ]
  },
  {
   "cell_type": "code",
   "execution_count": 34,
   "id": "5fc5d8b2",
   "metadata": {},
   "outputs": [],
   "source": [
    "def quicksort(arr,l = 0,r = None):\n",
    "    \n",
    "    if r == None:\n",
    "        r = len(arr)-1\n",
    "        \n",
    "    if r-l<1: \n",
    "        return None\n",
    "    \n",
    "    pivot = arr[r]\n",
    "    l_ind = l\n",
    "    for r_ind in range(l,r):\n",
    "        if arr[r_ind] < pivot:\n",
    "            arr[r_ind], arr[l_ind] = arr[l_ind], arr[r_ind]\n",
    "            l_ind+=1\n",
    "        else:\n",
    "            continue\n",
    "            \n",
    "    arr[l_ind], arr[r] = arr[r], arr[l_ind]\n",
    "    \n",
    "    quicksort(arr,l,l_ind-1)\n",
    "    quicksort(arr,l_ind+1,r)\n",
    "    \n",
    "    return arr"
   ]
  },
  {
   "cell_type": "code",
   "execution_count": 35,
   "id": "067e389b",
   "metadata": {},
   "outputs": [
    {
     "data": {
      "text/plain": [
       "[1, 2, 2, 6, 8, 11, 16, 24, 94]"
      ]
     },
     "execution_count": 35,
     "metadata": {},
     "output_type": "execute_result"
    }
   ],
   "source": [
    "n = [1,2,16,6,2,8,94,24,11]\n",
    "quicksort(n)"
   ]
  },
  {
   "cell_type": "markdown",
   "id": "77188def",
   "metadata": {},
   "source": [
    "# Problem 4"
   ]
  },
  {
   "cell_type": "code",
   "execution_count": 103,
   "id": "3200bc33",
   "metadata": {},
   "outputs": [],
   "source": [
    "class Node:\n",
    "    def __init__(self,bit,value,left = None, right = None):\n",
    "        \n",
    "        self.left = left\n",
    "        self.right = right\n",
    "        self.bit = bit\n",
    "        self.value = value\n",
    "\n",
    "class Wavelet_Tree:\n",
    "    def __init__(self,ar):\n",
    "        self.ar = ar\n",
    "        self.rootNode = self.waveTreeCreate(self.ar)\n",
    "     \n",
    "    def waveTreeCreate(self,ar):\n",
    "        bit_sequence = []\n",
    "        left_child = []\n",
    "        right_child = []\n",
    "\n",
    "        if len(ar) == 0:\n",
    "            return None\n",
    "\n",
    "        minElem = min(ar)\n",
    "        maxElem = max(ar)\n",
    "        \n",
    "        \n",
    "        if minElem == maxElem:\n",
    "            node = Node(\"X\",ar)\n",
    "            return node\n",
    "        \n",
    "        # ------- choosing a pivot value to split the tree -------------\n",
    "        mid = (minElem + maxElem) / 2\n",
    "       # print(mid)\n",
    "        \n",
    "        for elem in ar:\n",
    "            # --------------- adding the elements that are less than or equal to pivot in left child --------\n",
    "            # --------------- assigning 0 to those elements -------------\n",
    "            if elem <= mid:\n",
    "                left_child.append(elem)\n",
    "                bit_sequence.append(0)\n",
    "            # ------------- adding elements greater than pivot to the right child -------------\n",
    "            # ------------- assigning 1 to those elements ---------------\n",
    "            else:\n",
    "                right_child.append(elem)\n",
    "                bit_sequence.append(1)\n",
    "        \n",
    "        # ------------ if the node can still be split into child nodes then using the same function on the left and right child --------------\n",
    "        if len(bit_sequence) > 1:\n",
    "            node = Node(bit_sequence,ar)\n",
    "            if left_child:\n",
    "                node.left = self.waveTreeCreate(left_child)\n",
    "            if right_child:\n",
    "                node.right = self.waveTreeCreate(right_child)\n",
    "        \n",
    "        return node\n",
    " \n",
    "    def print(self):\n",
    "        # ------------- if no elements ---------------\n",
    "        if self.rootNode is None:\n",
    "            return\n",
    "        \n",
    "        node = self.rootNode\n",
    "        queue = []\n",
    "        ans = []\n",
    "        queue.append(node)\n",
    "        #print(len(queue))\n",
    "        level = 0\n",
    "        count = 1\n",
    "        while len(queue):\n",
    "            if pow(2,level) == count:\n",
    "                level += 1\n",
    "                if count != 1:\n",
    "                    print()\n",
    "                print('Level',str(level-1),':',end='')\n",
    "            \n",
    "            count+=1\n",
    "            ls = []\n",
    "            #print(\"q: \",queue[0].bit)\n",
    "            for i in queue[0].bit:\n",
    "              #  print(\"i\",i)\n",
    "                ls.append(str(i))\n",
    "           # print(ls)\n",
    "            s = ''.join(ls)\n",
    "            print(s, end=', ')\n",
    "            ans.append(queue[0].bit)\n",
    "            node = queue.pop(0)\n",
    "            if node.left != None:\n",
    "                queue.append(node.left)\n",
    "            if node.right != None:\n",
    "                queue.append(node.right)\n",
    "            \n",
    "        print()\n",
    "        return "
   ]
  },
  {
   "cell_type": "code",
   "execution_count": 104,
   "id": "3fe56edd",
   "metadata": {},
   "outputs": [
    {
     "name": "stdout",
     "output_type": "stream",
     "text": [
      "Level 0 :1001100110, \n",
      "Level 1 :00101, 00110, \n",
      "Level 2 :100, 01, 010, 10, \n",
      "Level 3 :01, X, X, X, 10, X, X, X, \n",
      "Level 4 :X, X, X, X, \n"
     ]
    }
   ],
   "source": [
    "A = [6, 2, 0, 7, 9, 3, 1, 8, 5, 4]\n",
    "wavetree = Wavelet_Tree(A)\n",
    "wavetree.print()"
   ]
  },
  {
   "cell_type": "markdown",
   "id": "7912bed8",
   "metadata": {},
   "source": [
    "# Problem 5\n",
    "\n",
    "The greedy approach is not the optimal solution for this problem.\n",
    "\n",
    "It takes exponential time (checking all strings) to solve a problem that can be solved using DP\n",
    "in much less time.\n"
   ]
  },
  {
   "cell_type": "code",
   "execution_count": null,
   "id": "21c407e9",
   "metadata": {},
   "outputs": [],
   "source": [
    "import sys\n",
    "    \n",
    "def shortest_superstring(A):\n",
    "    def overlap(s1,s2):\n",
    "        max_overlap = -sys.maxsize - 1\n",
    "        ls1 = len(s1)\n",
    "        ls2 = len(s2)\n",
    "\n",
    "        st = str()\n",
    "        #print(\"min len: \",min(ls1,ls2))\n",
    "        \n",
    "        # ---------- checking overlap between string 1's last i elements and string 2's first i elements ----------\n",
    "        minlen = min(ls1,ls2)+1\n",
    "        i = 1\n",
    "        while i < minlen:\n",
    "         #   print(i)\n",
    "            if s1[ls1 - i:] == s2[:i]:\n",
    "                if max_overlap < i:\n",
    "                    max_overlap = i\n",
    "                    st = s1 + s2[i:]\n",
    "            i += 1\n",
    "        #print(\"max_overlap1: \",max_overlap)\n",
    "        #print(\"st 1st: \",st)\n",
    "        \n",
    "        # --------- checking overlap between string 1's first i elements and string 2's last i elements -----------\n",
    "        j = 1\n",
    "        while j < minlen:\n",
    "            if s1[:j] == s2[ls2 - j:]:\n",
    "                if max_overlap < j:\n",
    "                    max_overlap = j\n",
    "                    st = s2 + s1[j:]\n",
    "            \n",
    "            j += 1\n",
    "        #print(\"max_overlap2: \", max_overlap)\n",
    "        #print(\"st 2nd: \",st)\n",
    "        return max_overlap, st\n",
    "    \n",
    "    # ----------- finding maximum overlaps ----------\n",
    "    lenA = len(A)\n",
    "    resustr = A[0]\n",
    "    while lenA > 1:\n",
    "        max_over = -sys.maxsize - 1\n",
    "        curr = nxt = int()\n",
    "        result = str()\n",
    "        \n",
    "        for i in range(lenA):\n",
    "            for j in range(i+1,lenA):\n",
    "               \n",
    "                res,stg = overlap(A[i],A[j])\n",
    "                if max_over < res:\n",
    "                    max_over = res\n",
    "                    result = stg\n",
    "                    curr = i\n",
    "                    nxt = j\n",
    "        lenA -= 1\n",
    "        #print(lenA)\n",
    "        \n",
    "       # ------------- if no overlap just concatinate the strings ----------\n",
    "        if max_over == -sys.maxsize - 1:\n",
    "            \n",
    "            A[0] += A[lenA]\n",
    "       # -------------- updating the first element of the given list with the overlap ----------\n",
    "        else:\n",
    "            A[curr] = result\n",
    "         #   print(\"A curr: \",A[curr])\n",
    "        \n",
    "       # -------------- checking overlap with next ------------- \n",
    "            A[nxt] = A[lenA]\n",
    "        #    print(\"A nxt: \", A[nxt])\n",
    "       # print(\"A: \",A)    \n",
    "    return A[0]\n",
    "\n"
   ]
  },
  {
   "cell_type": "code",
   "execution_count": null,
   "id": "27e4924a",
   "metadata": {},
   "outputs": [],
   "source": [
    "shortest_superstring(['CATGC', 'CTAAGT', 'GCTA', 'TTCA', 'ATGCATC'])"
   ]
  },
  {
   "cell_type": "code",
   "execution_count": null,
   "id": "265f518e",
   "metadata": {},
   "outputs": [],
   "source": [
    "shortest_superstring(['hello','omega','alex'])"
   ]
  },
  {
   "cell_type": "markdown",
   "id": "2d71ce33",
   "metadata": {},
   "source": [
    "# Problem 6"
   ]
  },
  {
   "cell_type": "code",
   "execution_count": null,
   "id": "37539fb8",
   "metadata": {},
   "outputs": [],
   "source": [
    "def find_circle_A(B):\n",
    "    # Since the length of B cannot be perfectly divisible by 3 so there can be two remainders 1 and 2\n",
    "    # We will deal with both cases separately\n",
    "    \n",
    "    # ------- remainder 1 ---------\n",
    "    if len(B)%3 == 1:\n",
    "        B_sum = sum(B)\n",
    "        \n",
    "        # Sum of elements of given array would be 3 times the final array so we will find the sum of A\n",
    "        A_sum = B_sum/3\n",
    "        A = [0]*len(B)\n",
    "        i = 1\n",
    "        s1 = 0\n",
    "        \n",
    "        # -------- finding the last element of A -------\n",
    "        while i<len(B):\n",
    "            s1 += B[i]\n",
    "            i += 3\n",
    "        #print(\"s1: \",s1)    \n",
    "        A[-1] = int(A_sum - s1)\n",
    "        #print(A)\n",
    "        \n",
    "        # --------- finding the first element of A --------\n",
    "        j = 2\n",
    "        s2 = 0\n",
    "        \n",
    "        while j < len(B):\n",
    "            s2 += B[j]\n",
    "            j +=3\n",
    "        #print(\"s2: \",s2)    \n",
    "        A[0] = int(A_sum - s2)\n",
    "        a = len(B)-1\n",
    "        b = 0\n",
    "        \n",
    "        # --------- finding the remaining elements ----------\n",
    "        for i in range(0,len(B)-1):\n",
    "            A[i+1] = B[i] - A[a] - A[b]\n",
    "            a = b\n",
    "            b = b+1\n",
    "        return A\n",
    "    \n",
    "    # ---------- remainder 2 ----------\n",
    "    if len(B)%3 == 2:\n",
    "        B_sum = sum(B)\n",
    "        A_sum = int(B_sum/3)\n",
    "        A = [0]*len(B)\n",
    "        A_0 = 0\n",
    "        i = 1\n",
    "        s1 = 0\n",
    "        \n",
    "    # ---------- finding the first element --------     \n",
    "        while i < len(B)-1:\n",
    "            s1 += B[i]\n",
    "            i += 3\n",
    "       # print(\"Asum: \",A_sum)\n",
    "        \n",
    "        A_0 = int(A_sum - s1)\n",
    "        #print(\"s1: \",s1)\n",
    "        A[0] = B[-1] - A_0\n",
    "        #print(A)\n",
    "        \n",
    "    # ----------- finding the last element ----------    \n",
    "        j = 2\n",
    "        s2 = 0\n",
    "        while j < len(B)-1:\n",
    "            s2 += B[j]\n",
    "            j += 3\n",
    "        #print(\"s2: \",s2)   \n",
    "        A_n = int(A_sum - s2)\n",
    "        A[-1] = A_n - A[0]\n",
    "        #print(\"An: \", A_n)\n",
    "        #print(A)\n",
    "        \n",
    "     # ----------- finding remaining elements ----------   \n",
    "        a = len(B)-1\n",
    "        b = 0\n",
    "        for i in range(0,len(B)-1):\n",
    "            A[i+1] = B[i] - A[a] - A[b]\n",
    "            a = b\n",
    "            b = b+1\n",
    "        return A"
   ]
  },
  {
   "cell_type": "code",
   "execution_count": null,
   "id": "1f3d9457",
   "metadata": {},
   "outputs": [],
   "source": [
    "find_circle_A([7,6,9,8])"
   ]
  },
  {
   "cell_type": "code",
   "execution_count": null,
   "id": "828d7be7",
   "metadata": {},
   "outputs": [],
   "source": [
    "find_circle_A([8,6,9,12,10])"
   ]
  },
  {
   "cell_type": "code",
   "execution_count": null,
   "id": "92198787",
   "metadata": {},
   "outputs": [],
   "source": [
    "find_circle_A([179,129,62,144,182])"
   ]
  },
  {
   "cell_type": "code",
   "execution_count": null,
   "id": "ce00a97e",
   "metadata": {},
   "outputs": [],
   "source": []
  },
  {
   "cell_type": "code",
   "execution_count": null,
   "id": "05cff9fe",
   "metadata": {},
   "outputs": [],
   "source": []
  },
  {
   "cell_type": "code",
   "execution_count": null,
   "id": "fb7b7b9b",
   "metadata": {},
   "outputs": [],
   "source": []
  },
  {
   "cell_type": "code",
   "execution_count": null,
   "id": "f815aa4e",
   "metadata": {},
   "outputs": [],
   "source": []
  },
  {
   "cell_type": "code",
   "execution_count": null,
   "id": "4a1f727d",
   "metadata": {},
   "outputs": [],
   "source": []
  }
 ],
 "metadata": {
  "kernelspec": {
   "display_name": "Python 3 (ipykernel)",
   "language": "python",
   "name": "python3"
  },
  "language_info": {
   "codemirror_mode": {
    "name": "ipython",
    "version": 3
   },
   "file_extension": ".py",
   "mimetype": "text/x-python",
   "name": "python",
   "nbconvert_exporter": "python",
   "pygments_lexer": "ipython3",
   "version": "3.9.7"
  }
 },
 "nbformat": 4,
 "nbformat_minor": 5
}
