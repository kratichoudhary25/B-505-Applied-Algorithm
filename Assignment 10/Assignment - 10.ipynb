{
 "cells": [
  {
   "cell_type": "markdown",
   "metadata": {},
   "source": [
    "# Problem 1"
   ]
  },
  {
   "cell_type": "code",
   "execution_count": 19,
   "metadata": {},
   "outputs": [],
   "source": [
    "from itertools import combinations\n",
    "def get_combined_list(s):\n",
    "    l = s\n",
    "    for i,j in combinations(l,2):\n",
    "        if not set(i).isdisjoint(j):\n",
    "            i += j\n",
    "            l.remove(j)\n",
    "    \n",
    "    l = [list(set(i)) for i in l]\n",
    "    return l"
   ]
  },
  {
   "cell_type": "code",
   "execution_count": 20,
   "metadata": {},
   "outputs": [
    {
     "data": {
      "text/plain": [
       "[['apples', 'cats', 'oranges', 'dogs'], ['peach', 'mango']]"
      ]
     },
     "execution_count": 20,
     "metadata": {},
     "output_type": "execute_result"
    }
   ],
   "source": [
    "get_combined_list([['oranges','dogs', 'apples'],['peach', 'mango'],['dogs', 'cats']])"
   ]
  },
  {
   "cell_type": "markdown",
   "metadata": {},
   "source": [
    "# Problem 2"
   ]
  },
  {
   "cell_type": "code",
   "execution_count": 2,
   "metadata": {},
   "outputs": [],
   "source": [
    "def SymmetricPairs(Array_Pairs):\n",
    "    Hmap = {}\n",
    "    ans = []\n",
    "    for i in range(len(Array_Pairs)):\n",
    "        \n",
    "        if Array_Pairs[i][1] in Hmap.keys() and Hmap[Array_Pairs[i][1]] == Array_Pairs[i][0]:\n",
    "            ans.append([Array_Pairs[i][1],Array_Pairs[i][0]])\n",
    "        \n",
    "        else:\n",
    "            Hmap[Array_Pairs[i][0]] = Array_Pairs[i][1]\n",
    "    \n",
    "    return ans"
   ]
  },
  {
   "cell_type": "code",
   "execution_count": null,
   "metadata": {},
   "outputs": [],
   "source": [
    "Array_pairs = [[11, 20], [30, 40], [5, 10], [40, 30], [10, 5]]\n",
    "SymmetricPairs(Array_pairs)"
   ]
  },
  {
   "cell_type": "markdown",
   "metadata": {},
   "source": [
    "# Problem 3"
   ]
  },
  {
   "cell_type": "code",
   "execution_count": 1,
   "metadata": {},
   "outputs": [],
   "source": [
    "import numpy as np\n",
    "def custom_dict(queries,values):\n",
    "    k = []\n",
    "    v = []\n",
    "    result = []\n",
    "    d = {}\n",
    "    \n",
    "    def Return(key_k):\n",
    "    #    print(key_k)\n",
    "        return d[key_k]\n",
    "    \n",
    "    for i in range(len(queries)):\n",
    "        #print(d)\n",
    "        if queries[i] == 'Add':\n",
    "            k.append(values[i][0])\n",
    "            v.append(values[i][1])\n",
    "            #Add(values[i][0],values[i][1])\n",
    "            \n",
    "        elif queries[i] == 'Add_to_keys':\n",
    "            k = np.add(k,values[i][0]).tolist()\n",
    "            #Add_to_keys(values[i])\n",
    "            \n",
    "        elif queries[i] == 'Add_to_vals':\n",
    "            v = np.add(v,values[i][0]).tolist()\n",
    "            #Add_to_vals(values[i])\n",
    "        \n",
    "        elif queries[i] == 'Return':\n",
    "            result.append(Return(values[i][0]))\n",
    "       # print(k)\n",
    "        #print(v)\n",
    "        d = {}\n",
    "        for j in range(len(k)):\n",
    "            d[k[j]] = v[j]\n",
    "    return result"
   ]
  },
  {
   "cell_type": "code",
   "execution_count": null,
   "metadata": {},
   "outputs": [],
   "source": [
    "queries = ['Add','Add_to_vals','Return','Add','Add_to_keys','Add_to_vals','Return']\n",
    "values = [[1,2],[2],[1],[2,3],[1],[-1],[3]]\n",
    "custom_dict(queries,values)"
   ]
  },
  {
   "cell_type": "markdown",
   "metadata": {},
   "source": [
    "# Problem 4"
   ]
  },
  {
   "cell_type": "code",
   "execution_count": 173,
   "metadata": {},
   "outputs": [],
   "source": [
    "def get_travel_plan(cities,priorities):\n",
    "    cities_bef = []\n",
    "    cities_aft = []\n",
    "    #route = ['']*len(cities)\n",
    "    route = []\n",
    "    prior_dict = {}\n",
    "    visited = []\n",
    "    \n",
    "    for i in cities:\n",
    "        prior_dict[i] = []\n",
    "        \n",
    "        \n",
    "    for i,j in priorities:\n",
    "        cities_bef.append(i)\n",
    "        cities_aft.append(j)\n",
    "        prior_dict[i].append(j)\n",
    "    \n",
    "   # print(prior_dict)\n",
    "    \n",
    "    for k,v in prior_dict.items():\n",
    "        if len(v) == 1 and prior_dict[v[0]] != []:\n",
    "            if k in prior_dict[v[0]] or k in prior_dict[prior_dict[v[0]][0]]:\n",
    "                return \"These priorities cannot be turned into a travel plan!\"\n",
    "        \n",
    "    prior = list(set(cities_bef + cities_aft))\n",
    "    \n",
    "\n",
    "    for i in range(len(cities)):\n",
    "        if cities[i] not in prior:\n",
    "            route.append(cities[i])\n",
    "            visited.append(cities[i])\n",
    "        \n",
    "        elif cities[i] not in cities_aft and cities[i] in prior:\n",
    "            route.append(cities[i])\n",
    "            visited.append(cities[i])\n",
    "            \n",
    "    for i in visited:\n",
    "        for j in prior_dict[i]:\n",
    "            route.append(j)\n",
    "            visited.append(j)\n",
    "    return route"
   ]
  },
  {
   "cell_type": "code",
   "execution_count": 174,
   "metadata": {
    "scrolled": true
   },
   "outputs": [
    {
     "data": {
      "text/plain": [
       "'These priorities cannot be turned into a travel plan!'"
      ]
     },
     "execution_count": 174,
     "metadata": {},
     "output_type": "execute_result"
    }
   ],
   "source": [
    "cities = ['London', 'Berlin', 'Medellín', 'São Paulo', 'Prague', 'Ladakh', 'Nice']\n",
    "priorities = [('London', 'Medellín'), ('Medellín', 'São Paulo'), ('Prague', 'Berlin'),('Prague','Medellín'),('São Paulo','Prague')]\n",
    "get_travel_plan(cities,priorities)"
   ]
  },
  {
   "cell_type": "code",
   "execution_count": 175,
   "metadata": {},
   "outputs": [
    {
     "data": {
      "text/plain": [
       "['London', 'Prague', 'Ladakh', 'Nice', 'Medellín', 'Berlin', 'São Paulo']"
      ]
     },
     "execution_count": 175,
     "metadata": {},
     "output_type": "execute_result"
    }
   ],
   "source": [
    "cities = ['London', 'Berlin', 'Medellín', 'São Paulo', 'Prague', 'Ladakh', 'Nice']\n",
    "priorities = [('Medellín', 'São Paulo'),('London', 'Medellín'), ('Prague', 'Berlin')]\n",
    "get_travel_plan(cities,priorities)"
   ]
  },
  {
   "cell_type": "code",
   "execution_count": 176,
   "metadata": {},
   "outputs": [
    {
     "data": {
      "text/plain": [
       "'These priorities cannot be turned into a travel plan!'"
      ]
     },
     "execution_count": 176,
     "metadata": {},
     "output_type": "execute_result"
    }
   ],
   "source": [
    "cities = ['NYC','Hawaii']\n",
    "priorities = [('NYC','Hawaii'),('Hawaii','NYC')]\n",
    "get_travel_plan(cities,priorities)"
   ]
  },
  {
   "cell_type": "code",
   "execution_count": 178,
   "metadata": {},
   "outputs": [
    {
     "data": {
      "text/plain": [
       "['Prague', 'Ladakh', 'Berlin', 'London', 'Medellín', 'Nice', 'São Paulo']"
      ]
     },
     "execution_count": 178,
     "metadata": {},
     "output_type": "execute_result"
    }
   ],
   "source": [
    "cities = ['London', 'Berlin', 'Medellín', 'São Paulo', 'Prague', 'Ladakh', 'Nice']\n",
    "priorities = [('Medellín', 'São Paulo'),('London', 'Medellín'), ('Prague', 'Berlin'),('Prague','London'),('London','Nice')]\n",
    "get_travel_plan(cities,priorities)"
   ]
  },
  {
   "cell_type": "code",
   "execution_count": null,
   "metadata": {},
   "outputs": [],
   "source": []
  },
  {
   "cell_type": "code",
   "execution_count": null,
   "metadata": {},
   "outputs": [],
   "source": []
  }
 ],
 "metadata": {
  "kernelspec": {
   "display_name": "Python 3 (ipykernel)",
   "language": "python",
   "name": "python3"
  },
  "language_info": {
   "codemirror_mode": {
    "name": "ipython",
    "version": 3
   },
   "file_extension": ".py",
   "mimetype": "text/x-python",
   "name": "python",
   "nbconvert_exporter": "python",
   "pygments_lexer": "ipython3",
   "version": "3.9.7"
  }
 },
 "nbformat": 4,
 "nbformat_minor": 2
}
