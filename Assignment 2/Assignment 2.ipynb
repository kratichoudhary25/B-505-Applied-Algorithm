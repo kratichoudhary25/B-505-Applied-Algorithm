{
 "cells": [
  {
   "cell_type": "markdown",
   "id": "2997c4b3",
   "metadata": {},
   "source": [
    "# QUESTION 1"
   ]
  },
  {
   "cell_type": "code",
   "execution_count": 1,
   "id": "b52160e3",
   "metadata": {},
   "outputs": [],
   "source": [
    "def max_cherries(cake):\n",
    "    \n",
    "    # counting total cherries\n",
    "    total_cherries = 0\n",
    "    for i in cake:\n",
    "        for j in i:\n",
    "            if j == \"#\":\n",
    "                total_cherries += 1\n",
    "    arr = []\n",
    "    # counting the sum of cherries in different row slices\n",
    "    count_cherry = 0\n",
    "    for row in range(len(cake)): \n",
    "        for col in range(len(cake[row])):\n",
    "            if cake[row][col] == \"#\":\n",
    "                count_cherry += 1      \n",
    "        arr.append(count_cherry)\n",
    "    \n",
    "    # counting the number of cherries in different col slices    \n",
    "    count_cherry = 0\n",
    "    for col in range(len(cake[0])):\n",
    "        for row in range(len(cake)):\n",
    "            if cake[row][col] == \"#\":\n",
    "                count_cherry += 1\n",
    "            #print(arr)\n",
    "        arr.append(count_cherry)\n",
    "    \n",
    "   # print(\"arr: \",arr)\n",
    "    \n",
    "    # counting the number of cherries in the other slice\n",
    "    slice2 = []\n",
    "    for i in range(len(arr)):\n",
    "        cherr = total_cherries - arr[i]\n",
    "        slice2.append(cherr)\n",
    "    \n",
    "    # print(\"slice2: \", slice2)\n",
    "    \n",
    "    cherr_diff = []\n",
    "    min_diff = 10*total_cherries\n",
    "    for ch in range(len(arr)):\n",
    "        # print(arr[ch])\n",
    "        cherr_diff.append(abs(arr[ch]-slice2[ch]))\n",
    "       \n",
    "        min_diff = min(min_diff,cherr_diff[ch])\n",
    "      #  print(\"min:\",min_diff)\n",
    "    #print(\"diff: \",cherr_diff)\n",
    "    final_index = cherr_diff.index(min_diff)\n",
    "    \n",
    "    if arr[final_index] >= slice2[final_index]:\n",
    "        return slice2[final_index]\n",
    "    else:\n",
    "        return arr[final_index]"
   ]
  },
  {
   "cell_type": "code",
   "execution_count": 2,
   "id": "c922a6c3",
   "metadata": {},
   "outputs": [
    {
     "data": {
      "text/plain": [
       "2"
      ]
     },
     "execution_count": 2,
     "metadata": {},
     "output_type": "execute_result"
    }
   ],
   "source": [
    "cake = [[\".\", \"#\", \"#\", \"#\", \"#\"], [\".\", \".\", \".\", \".\", \".\"]]\n",
    "max_cherries(cake)"
   ]
  },
  {
   "cell_type": "code",
   "execution_count": 3,
   "id": "4907f9d2",
   "metadata": {},
   "outputs": [
    {
     "data": {
      "text/plain": [
       "2"
      ]
     },
     "execution_count": 3,
     "metadata": {},
     "output_type": "execute_result"
    }
   ],
   "source": [
    "cake = [[\".\",\"#\",\".\"], [\"#\",\".\",\".\",], [\"#\",\"#\",\"#\"]]\n",
    "max_cherries(cake)"
   ]
  },
  {
   "cell_type": "markdown",
   "id": "1de87f96",
   "metadata": {},
   "source": [
    "# QUESTION 2"
   ]
  },
  {
   "cell_type": "code",
   "execution_count": 4,
   "id": "0ca149c4",
   "metadata": {},
   "outputs": [],
   "source": [
    "def spy_locations(heights):\n",
    "    spy = [0]\n",
    "    for val in range(1,len(heights)):\n",
    "        if heights[val]>heights[val-1]:\n",
    "            spy.append(val)\n",
    "    return spy"
   ]
  },
  {
   "cell_type": "code",
   "execution_count": 5,
   "id": "813d87df",
   "metadata": {},
   "outputs": [
    {
     "data": {
      "text/plain": [
       "[0, 2, 4]"
      ]
     },
     "execution_count": 5,
     "metadata": {},
     "output_type": "execute_result"
    }
   ],
   "source": [
    "spy_locations([4,3,7,6,9])"
   ]
  },
  {
   "cell_type": "markdown",
   "id": "f7c1be5c",
   "metadata": {},
   "source": [
    "# QUESTION 3"
   ]
  },
  {
   "cell_type": "code",
   "execution_count": 6,
   "id": "dd6e988a",
   "metadata": {},
   "outputs": [],
   "source": [
    "def whos_the_winner(s,p):\n",
    "    s_list = list(s)\n",
    "    print(s_list)\n",
    "    N = len(s)\n",
    "    n = len(p)\n",
    "    pattern = s.find(p)\n",
    "    print(pattern)\n",
    "    count = 0\n",
    "\n",
    "    while N > n:\n",
    "        print(s_list)\n",
    "        if pattern>(N/2):\n",
    "            v_side = N-1\n",
    "            w_side = 0\n",
    "        else:\n",
    "            v_side = 0\n",
    "            w_side = N-1\n",
    "        \n",
    "        print('v: ',v_side)\n",
    "        print('w: ', w_side)\n",
    "        if count%2==0:\n",
    "            s_list.pop(v_side)\n",
    "            s = ''.join(str(e) for e in s_list)\n",
    "    \n",
    "        else:\n",
    "            s_list.pop(w_side)\n",
    "            s = ''.join(str(e) for e in s_list)\n",
    "            \n",
    "        N-=1\n",
    "        count+=1\n",
    "            \n",
    "    \n",
    "    if s==p:\n",
    "        return \"Walter\"\n",
    "    else:\n",
    "        return \"Veidt\""
   ]
  },
  {
   "cell_type": "code",
   "execution_count": 7,
   "id": "61a47c3b",
   "metadata": {},
   "outputs": [
    {
     "name": "stdout",
     "output_type": "stream",
     "text": [
      "['a', 'b', 'c', 'd', 'e', 'f', 'g', 'h', 'i', 'j']\n",
      "2\n",
      "['a', 'b', 'c', 'd', 'e', 'f', 'g', 'h', 'i', 'j']\n",
      "v:  0\n",
      "w:  9\n",
      "['b', 'c', 'd', 'e', 'f', 'g', 'h', 'i', 'j']\n",
      "v:  0\n",
      "w:  8\n",
      "['b', 'c', 'd', 'e', 'f', 'g', 'h', 'i']\n",
      "v:  0\n",
      "w:  7\n",
      "['c', 'd', 'e', 'f', 'g', 'h', 'i']\n",
      "v:  0\n",
      "w:  6\n",
      "['c', 'd', 'e', 'f', 'g', 'h']\n",
      "v:  0\n",
      "w:  5\n",
      "['d', 'e', 'f', 'g', 'h']\n",
      "v:  0\n",
      "w:  4\n"
     ]
    },
    {
     "data": {
      "text/plain": [
       "'Veidt'"
      ]
     },
     "execution_count": 7,
     "metadata": {},
     "output_type": "execute_result"
    }
   ],
   "source": [
    "whos_the_winner(\"abcdefghij\",\"cdef\")"
   ]
  },
  {
   "cell_type": "markdown",
   "id": "f75b9eca",
   "metadata": {},
   "source": [
    "# QUESTION 4"
   ]
  },
  {
   "cell_type": "code",
   "execution_count": 8,
   "id": "dc6b6c7c",
   "metadata": {},
   "outputs": [],
   "source": [
    "def return_resultant_string(s,p):\n",
    "    found = s.find(p)\n",
    "    n = len(p)\n",
    "    while found != -1:\n",
    "        x = found + n\n",
    "        s = s[:found]+s[x:]\n",
    "        found = s.find(p)\n",
    "        \n",
    "    return s"
   ]
  },
  {
   "cell_type": "code",
   "execution_count": 9,
   "id": "94684aeb",
   "metadata": {
    "scrolled": true
   },
   "outputs": [
    {
     "data": {
      "text/plain": [
       "''"
      ]
     },
     "execution_count": 9,
     "metadata": {},
     "output_type": "execute_result"
    }
   ],
   "source": [
    "return_resultant_string('aababccbc','abc')"
   ]
  },
  {
   "cell_type": "markdown",
   "id": "1dcb95d8",
   "metadata": {},
   "source": [
    "# QUESTION 5"
   ]
  },
  {
   "cell_type": "code",
   "execution_count": 12,
   "id": "7866663c",
   "metadata": {},
   "outputs": [],
   "source": [
    "import numpy as np"
   ]
  },
  {
   "cell_type": "code",
   "execution_count": 13,
   "id": "eab13d35",
   "metadata": {},
   "outputs": [],
   "source": [
    "def flip_game(s,queries):\n",
    "    result = []\n",
    "    string = list(s)\n",
    "    s = np.asarray(string,dtype=int)\n",
    "\n",
    "    for i in queries:\n",
    "        if i == \"flip\":\n",
    "            index = np.nonzero(s)[0][0]\n",
    "            #print(\"first element at index: \",index)\n",
    "            #print(\"Before: \", s)\n",
    "            s[index] = 0\n",
    "            s[np.where(s[:index] == 0)[0]] = 1\n",
    "            #print(\"After: \", s)\n",
    "        elif i == \"get\":\n",
    "            result.append(len(np.nonzero(s)[0]))\n",
    "\n",
    "    return result\n",
    "    "
   ]
  },
  {
   "cell_type": "code",
   "execution_count": 14,
   "id": "1c1e4286",
   "metadata": {},
   "outputs": [
    {
     "data": {
      "text/plain": [
       "[4, 6, 6]"
      ]
     },
     "execution_count": 14,
     "metadata": {},
     "output_type": "execute_result"
    }
   ],
   "source": [
    "flip_game(\"0000101011\",[\"get\",\"flip\",\"flip\",\"get\",\"flip\",\"flip\",\"flip\",\"get\"])"
   ]
  },
  {
   "cell_type": "markdown",
   "id": "efa1c2f0",
   "metadata": {},
   "source": [
    "# QUESTION 6"
   ]
  },
  {
   "cell_type": "code",
   "execution_count": 17,
   "id": "66cac08b",
   "metadata": {},
   "outputs": [],
   "source": [
    "def calculate_points(list):\n",
    "\n",
    "    record = []\n",
    "    for i in range(len(list)):\n",
    "        num1 = 0\n",
    "        num2 = 0\n",
    "        result = 0\n",
    "        \n",
    "        if list[i] == '+':\n",
    "            num1 = int(record[-2])\n",
    "            num2 = int(record[-1])\n",
    "            result = num1 + num2\n",
    "            record.append(result)\n",
    "\n",
    "        elif list[i] == '-':\n",
    "            num1 = int(record[-2])\n",
    "            num2 = int(record[-1])\n",
    "            result = num1 - num2\n",
    "            record.append(result)        \n",
    "        \n",
    "        elif list[i] == '%':\n",
    "            num1 = int(record[-2])\n",
    "            num2 = int(record[-1])\n",
    "            result = num1 % num2\n",
    "            record.append(result)\n",
    "        \n",
    "        elif list[i] == '/':\n",
    "            num1 = int(record[-2])\n",
    "            num2 = int(record[-1])\n",
    "            result = num1/num2\n",
    "            record.append(int(result))\n",
    "        \n",
    "        elif list[i] == '*':\n",
    "            num1 = int(record[-2])\n",
    "            num2 = int(record[-1])\n",
    "            record.append(result)\n",
    "        \n",
    "        elif list[i] == 'D':           \n",
    "            num1 = int(record[-1])\n",
    "            result = 2 * num1\n",
    "            record.append(result)\n",
    "\n",
    "        elif list[i] == 'I':\n",
    "            record.pop()\n",
    "\n",
    "        else:\n",
    "            record.append(int(list[i]))\n",
    "\n",
    "    return sum(record)"
   ]
  },
  {
   "cell_type": "code",
   "execution_count": 18,
   "id": "316f68ec",
   "metadata": {},
   "outputs": [
    {
     "data": {
      "text/plain": [
       "14"
      ]
     },
     "execution_count": 18,
     "metadata": {},
     "output_type": "execute_result"
    }
   ],
   "source": [
    "calculate_points(['5','-2','4','I','D','9','+','/'])"
   ]
  },
  {
   "cell_type": "markdown",
   "id": "2417449b",
   "metadata": {},
   "source": [
    "# QUESTION 7"
   ]
  },
  {
   "cell_type": "code",
   "execution_count": 1,
   "id": "9786b183",
   "metadata": {},
   "outputs": [
    {
     "ename": "SyntaxError",
     "evalue": "invalid character '¡' (U+00A1) (336264189.py, line 14)",
     "output_type": "error",
     "traceback": [
      "\u001b[0;36m  File \u001b[0;32m\"/var/folders/4n/jdlmlz3172b2_7xcl0_55ns40000gn/T/ipykernel_11758/336264189.py\"\u001b[0;36m, line \u001b[0;32m14\u001b[0m\n\u001b[0;31m    ¡ = 1\u001b[0m\n\u001b[0m    ^\u001b[0m\n\u001b[0;31mSyntaxError\u001b[0m\u001b[0;31m:\u001b[0m invalid character '¡' (U+00A1)\n"
     ]
    }
   ],
   "source": [
    "def Insert (self, element, position):\n",
    "    if self.head == None:\n",
    "        self. head = Node (element)\n",
    "\n",
    "    newnode = Node(element)\n",
    "\n",
    "    # insert at beginning\n",
    "    if position == 0:\n",
    "        newnode.next = self.head\n",
    "        self.head = newnode\n",
    "\n",
    "    currnode = self.head\n",
    "\n",
    "    ¡ = 1\n",
    "\n",
    "    while currnode.next is not None:\n",
    "        if i == position:\n",
    "            break\n",
    "            ¡ += 1\n",
    "            currnode = currnode.next\n",
    "    if currnode.next is None and i != position:\n",
    "        self.print_list()\n",
    "        return\n",
    "    \n",
    "    newnode.next = currnode.next\n",
    "    currnode.next = newnode\n",
    "    \n",
    "    self.print_list()\n",
    "    return\n",
    "    \n",
    "    def delete(self , element):\n",
    "        dell = self.head\n",
    "        tt = None\n",
    "        \n",
    "        if(dell == None):\n",
    "            return\n",
    "        \n",
    "        if(dell.num == element):\n",
    "            self.head = dell.next\n",
    "            dell = None\n",
    "            self.print list()\n",
    "            return\n",
    "        \n",
    "        while dell is not None:\n",
    "            tt = dell\n",
    "            dell = dell.next\n",
    "            if dell is None:\n",
    "                self.print_list()\n",
    "                return\n",
    "            \n",
    "            if(dell.num == element):\n",
    "                break\n",
    "            if dell is None:\n",
    "                self.print_list()\n",
    "                return\n",
    "            \n",
    "            tt.next = dell.next\n",
    "            dell = None\n",
    "            \n",
    "            self.print_list()\n",
    "            \n",
    "            return\n",
    "            \n",
    "            def Update ( self, search_element, replace_element):\n",
    "                newnode = Node(replace_element)\n",
    "                \n",
    "                prev = None\n",
    "                updates = self.head\n",
    "                \n",
    "                if (upp == None):\n",
    "                    return\n",
    "                \n",
    "                if(upp.num == search element) :\n",
    "                    self.head = newnode\n",
    "                    newnode.next = upp.next\n",
    "                    upp = None\n",
    "                while(upp is not None) :\n",
    "                    tt = upp\n",
    "                    upp = upp.next\n",
    "                    if upp is None:\n",
    "                        self.print list()\n",
    "                        return\n",
    "                    if (upp. num == search element):\n",
    "                        break\n",
    "                newnode.next = upp.next\n",
    "                tt.next = newnode\n",
    "                if (upp. next == None):\n",
    "                return\n",
    "                self.print_list  "
   ]
  },
  {
   "cell_type": "code",
   "execution_count": 8,
   "id": "f378954f",
   "metadata": {},
   "outputs": [],
   "source": [
    "class Node:\n",
    "    def __init__(self, num, next = None ):\n",
    "        self.num = num\n",
    "        self.next = next\n",
    "\n",
    "class Linked_List():\n",
    "    def __init__(self):\n",
    "        self.head = None\n",
    "    \n",
    "    def addInLL(self, newData):\n",
    "        newNode = Node(newData)\n",
    "        if self.head is None:\n",
    "            self.head = newNode\n",
    "            return\n",
    "  \n",
    "        last = self.head\n",
    "        while last.next:\n",
    "            last = last.next\n",
    "  \n",
    "        last.next = newNode\n",
    "        \n",
    "    def Insert( self, element, position):\n",
    "        if position is None:\n",
    "            return\n",
    "        \n",
    "        new = Node(element)\n",
    "        new.next = position.next\n",
    "        position.next = new\n",
    "        \n",
    "    def delete(self, element):\n",
    "        head_val = self.head\n",
    "         \n",
    "        if (head_val is not None):\n",
    "             if (head_val.num == element):\n",
    "                self.head = head_val.next\n",
    "                head_val = None\n",
    "                return\n",
    "        while head_val != None:\n",
    "            if head_val.num == element:\n",
    "                break\n",
    "            prev = head_val\n",
    "            head_val = head_val.next\n",
    "\n",
    "        if (head_val == None):\n",
    "            return\n",
    "\n",
    "        prev.next = head_val.next\n",
    "        head_val = None\n",
    "        \n",
    "    def Update(self, search_element, replace_element):\n",
    "        new = Node(replace_element)\n",
    "        prev = None\n",
    "        updates = self.head\n",
    "                \n",
    "        if updates == None:\n",
    "            return\n",
    "                \n",
    "        if updates.num == search_element :\n",
    "            self.head = new\n",
    "            newnode.next = upp.next\n",
    "            updates = None\n",
    "            while updates != None:\n",
    "                prev = updates\n",
    "                updates = updates.next\n",
    "                if updates is None:\n",
    "                    self.print_list()\n",
    "                    return\n",
    "                if (updates.num == search_element):\n",
    "                    break\n",
    "            new.next = updates.next\n",
    "            prev.next = new\n",
    "            if (updates.next == None):\n",
    "                return\n",
    "            self.print_list()  \n",
    "        \n",
    "    \n",
    "    def Search(self, element):\n",
    "        item = self.head\n",
    "        while item != None:\n",
    "            if item.num == element:\n",
    "                return \"True\"\n",
    " \n",
    "            item = item.next\n",
    " \n",
    "        return \"False\"\n",
    "    \n",
    "    def merge_linkedlists(self, Linkedlist):\n",
    "        result = None \n",
    "        new_point = result\n",
    "          \n",
    "        while True:\n",
    "            if self == None:\n",
    "                new_point = Linkedlist \n",
    "                break\n",
    "            elif Linkedlist == None: \n",
    "                new_point = self \n",
    "                break \n",
    "            if(self.num <= Linkedlist.num): \n",
    "                MoveNode(new_point, self) \n",
    "            else: \n",
    "                MoveNode(new_point, Linkedlist) \n",
    "\n",
    "            new_point = new_point.next\n",
    "            ll_2 = ll_2.next\n",
    "\n",
    "            return result\n",
    "    \n",
    "    def Print(self):\n",
    "        temp = self.head\n",
    "        while temp:\n",
    "            print(temp.num, end=\" \")\n",
    "            temp = temp.next"
   ]
  },
  {
   "cell_type": "code",
   "execution_count": 10,
   "id": "c841263a",
   "metadata": {},
   "outputs": [
    {
     "data": {
      "text/plain": [
       "'False'"
      ]
     },
     "execution_count": 10,
     "metadata": {},
     "output_type": "execute_result"
    }
   ],
   "source": [
    "lis1 = Linked_List()\n",
    "lis2 = Linked_List()\n",
    "  \n",
    "# Add elements to the list in sorted order\n",
    "lis1.addInLL(5)\n",
    "lis1.addInLL(10)\n",
    "lis1.addInLL(15)\n",
    "  \n",
    "lis2.addInLL(2)\n",
    "lis2.addInLL(3)\n",
    "lis2.addInLL(20)\n",
    "\n",
    "lis1.Search(25)\n",
    "#lis2.Print()"
   ]
  },
  {
   "cell_type": "markdown",
   "id": "295ad71d",
   "metadata": {},
   "source": [
    "# QUESTION 8"
   ]
  },
  {
   "cell_type": "code",
   "execution_count": 20,
   "id": "64435f6f",
   "metadata": {},
   "outputs": [],
   "source": [
    "def validate_order(nums):\n",
    "    T = []\n",
    "    nest = []\n",
    "    for ant in nums:\n",
    "        if ant-1 in nest or ant == 1:\n",
    "            nest.append(ant)\n",
    "            while True:\n",
    "                if ant+1 in T:\n",
    "                    if T[-1] == ant+1:\n",
    "                        nest.append(T[-1])\n",
    "                        T.pop()\n",
    "                    else:\n",
    "                        return print(0)\n",
    "                    ant += 1\n",
    "                else:\n",
    "                    break\n",
    "\n",
    "        else:\n",
    "            T.append(ant)\n",
    "\n",
    "    return print(1)"
   ]
  },
  {
   "cell_type": "code",
   "execution_count": 21,
   "id": "ce6478df",
   "metadata": {},
   "outputs": [
    {
     "name": "stdout",
     "output_type": "stream",
     "text": [
      "1\n"
     ]
    }
   ],
   "source": [
    "validate_order([5,3,2,1,4])"
   ]
  },
  {
   "cell_type": "code",
   "execution_count": null,
   "id": "e163167e",
   "metadata": {},
   "outputs": [],
   "source": []
  }
 ],
 "metadata": {
  "kernelspec": {
   "display_name": "Python 3 (ipykernel)",
   "language": "python",
   "name": "python3"
  },
  "language_info": {
   "codemirror_mode": {
    "name": "ipython",
    "version": 3
   },
   "file_extension": ".py",
   "mimetype": "text/x-python",
   "name": "python",
   "nbconvert_exporter": "python",
   "pygments_lexer": "ipython3",
   "version": "3.9.7"
  }
 },
 "nbformat": 4,
 "nbformat_minor": 5
}
