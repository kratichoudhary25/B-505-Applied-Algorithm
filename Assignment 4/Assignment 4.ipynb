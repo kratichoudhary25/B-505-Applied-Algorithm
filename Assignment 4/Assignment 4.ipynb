{
 "cells": [
  {
   "cell_type": "markdown",
   "id": "9213f3bb",
   "metadata": {},
   "source": [
    "# QUESTION 1"
   ]
  },
  {
   "cell_type": "code",
   "execution_count": 106,
   "id": "d761ffb4",
   "metadata": {},
   "outputs": [],
   "source": [
    "class Node:\n",
    "    def __init__(self, data, left=None, right=None):\n",
    "        self.data = data\n",
    "        self.left = left\n",
    "        self.right = right\n",
    "    \n",
    "    #Contain method\n",
    "    def __contain__(self, val):\n",
    "        if val == self.data:\n",
    "            return True\n",
    "        \n",
    "        elif val < self.data:\n",
    "            if self.left == None:\n",
    "                return False\n",
    "            else:\n",
    "                return self.left.__contain__(val)\n",
    "        \n",
    "        elif val > self.data:\n",
    "            if self.right == None:\n",
    "                return False\n",
    "            else:\n",
    "                return self.right.__contain__(val)\n",
    "    \n",
    "    #Inorder method\n",
    "    def inord(self):\n",
    "        elem = []\n",
    "        if self.left is not None:\n",
    "            elem += self.left.inord()\n",
    "          \n",
    "        elem.append(self.data)\n",
    "        \n",
    "        if self.right is not None:\n",
    "            elem += self.right.inord()\n",
    "            \n",
    "        return elem\n",
    "    \n",
    "    #Preorder method\n",
    "    def preord(self):\n",
    "        elem = []\n",
    "        \n",
    "        elem.append(self.data)\n",
    "        \n",
    "        if self.left is not None:\n",
    "            elem += self.left.preord()\n",
    "        \n",
    "        if self.right is not None:\n",
    "            elem += self.right.preord()\n",
    "            \n",
    "        return elem\n",
    "        \n",
    "    #Postorder method\n",
    "    def postord(self):\n",
    "        elem = []\n",
    "\n",
    "        if self.left is not None:\n",
    "            elem += self.left.postord()\n",
    "        \n",
    "        if self.right is not None:\n",
    "            elem += self.right.postord()\n",
    "            \n",
    "        elem.append(self.data)\n",
    "        \n",
    "        return elem\n",
    "        \n",
    "    #Insert method\n",
    "    def insertN(self,data):\n",
    "        if data == self.data:\n",
    "            return None\n",
    "        if data < self.data:\n",
    "            if self.left:\n",
    "                self.left.insertN(data)\n",
    "            else:\n",
    "                self.left = Node(data)\n",
    "        else:\n",
    "            if self.right:\n",
    "                self.right.insertN(data)\n",
    "            else:\n",
    "                self.right = Node(data)\n",
    "    \n",
    "    #Max method\n",
    "    def max_num(self):\n",
    "        if self.right == None:\n",
    "            return self.data\n",
    "        return self.right.max_num()\n",
    "   \n",
    "\n",
    "from collections import deque        \n",
    "class BST():\n",
    "    def __init__(self, node):\n",
    "        self.root = node\n",
    "    \n",
    "    #-------- Contains ----------\n",
    "    def __contains__(self, data):\n",
    "        if self.root.__contain__(data):\n",
    "            return True\n",
    "        else:\n",
    "            return False\n",
    "        \n",
    "    \n",
    "    #-------- Minimum ----------\n",
    "    def min_num(self, root):\n",
    "        c = root\n",
    "        while c.left:\n",
    "            c=c.left\n",
    "        return c\n",
    "    \n",
    "    #-------- Delete ----------\n",
    "\n",
    "    def deleted(self, root, data):\n",
    "        if not root:\n",
    "            return None\n",
    "        \n",
    "        if root.data == data:\n",
    "            if not root.right: \n",
    "                return root.left\n",
    "            \n",
    "            if not root.left: \n",
    "                return root.right\n",
    "            \n",
    "            if root.left and root.right:\n",
    "                tmp = root.right\n",
    "                while tmp.left: \n",
    "                    tmp = tmp.left\n",
    "                root.data = tmp.data\n",
    "                root.right = self.deleted(root.right, root.data)\n",
    "\n",
    "        elif root.data > data:\n",
    "            root.left = self.deleted(root.left, data)\n",
    "        else:\n",
    "            root.right = self.deleted(root.right, data)\n",
    "            \n",
    "        return root\n",
    "\n",
    "    \n",
    "    def delete(self, data):\n",
    "        return self.deleted(self.root, data)\n",
    "    #-------- Insert ----------\n",
    "    def insert(self,data):\n",
    "        return self.root.insertN(data)\n",
    "    \n",
    "    #-------- Preorder ----------\n",
    "    def preorder(self):\n",
    "        return self.root.preord()\n",
    "    \n",
    "    #-------- Postorder ----------\n",
    "    def postorder(self):\n",
    "        return self.root.postord()\n",
    "    \n",
    "    #-------- Inorder ------------\n",
    "    def inorder(self):\n",
    "        return self.root.inord()\n",
    "\n",
    "    #-------- Level Order ----------\n",
    "    \n",
    "    def level_order(self):\n",
    "        root = self.root\n",
    "        if root is None:\n",
    "            return []\n",
    "        answer=[]\n",
    "        dq= deque([root])\n",
    "        while dq:\n",
    "            Level=[]\n",
    "            for _ in range(len(dq)):\n",
    "                node = dq.popleft()\n",
    "                Level.append(node.data)\n",
    "                if node.left is not None:\n",
    "                    dq.append(node.left)\n",
    "                \n",
    "                if node.right is not None:\n",
    "                    dq.append(node.right)\n",
    "            for i in range(len(Level)):\n",
    "                answer.append(Level[i])\n",
    "        return answer\n",
    "\n",
    "    \n",
    "    #------------- Height -----------------\n",
    "    def Theight(self,root,h):  # Helper Function\n",
    "        if root == None:\n",
    "            return h\n",
    "        lh = self.Theight(root.left,h+1)\n",
    "        rh = self.Theight(root.right,h+1)\n",
    "        return max(lh,rh)\n",
    "    \n",
    "    def height(self,root=None):\n",
    "        if self.root != None:\n",
    "            return int(self.Theight(self.root,-1))\n",
    "        else:\n",
    "            return 0\n",
    "    \n",
    "    #----------- Diameter ------------\n",
    "    def dim(self,root):    # Helper Function\n",
    "        if root == None:\n",
    "            return 0\n",
    "        hLeft = self.height(root.left)\n",
    "        hRight = self.height(root.right)\n",
    "        dLeft = self.dim(root.left)\n",
    "        dRight = self.dim(root.right)\n",
    "        summ = hLeft + hRight\n",
    "        if dLeft > dRight:\n",
    "            if dLeft > summ:\n",
    "                d = dLeft\n",
    "            else:\n",
    "                d = summ\n",
    "        else:\n",
    "            if dRight > summ:\n",
    "                d = dRight\n",
    "            else:\n",
    "                d = summ\n",
    "        return d\n",
    "    \n",
    "    def diameter(self):\n",
    "        if self.root != None:\n",
    "            return int(self.dim(self.root))\n",
    "        else:\n",
    "            return 0\n",
    "    \n",
    "    #----------- Maximum --------------\n",
    "    def max(self):\n",
    "        return print(self.root.max_num())"
   ]
  },
  {
   "cell_type": "code",
   "execution_count": 94,
   "id": "0182ff87",
   "metadata": {},
   "outputs": [],
   "source": [
    "nodel = Node(5, Node(1), Node(7))\n",
    "noder = Node(15, Node(12), Node(17))\n",
    "t = BST (Node(10, nodel, noder))"
   ]
  },
  {
   "cell_type": "code",
   "execution_count": 95,
   "id": "9f8c5a17",
   "metadata": {},
   "outputs": [
    {
     "data": {
      "text/plain": [
       "True"
      ]
     },
     "execution_count": 95,
     "metadata": {},
     "output_type": "execute_result"
    }
   ],
   "source": [
    "10 in t"
   ]
  },
  {
   "cell_type": "code",
   "execution_count": 96,
   "id": "a9887c66",
   "metadata": {},
   "outputs": [
    {
     "data": {
      "text/plain": [
       "[1, 5, 7, 10, 12, 15, 17]"
      ]
     },
     "execution_count": 96,
     "metadata": {},
     "output_type": "execute_result"
    }
   ],
   "source": [
    "t.inorder()"
   ]
  },
  {
   "cell_type": "code",
   "execution_count": 97,
   "id": "37ec81fa",
   "metadata": {},
   "outputs": [],
   "source": [
    "t.insert(16)"
   ]
  },
  {
   "cell_type": "code",
   "execution_count": 98,
   "id": "01f397e1",
   "metadata": {},
   "outputs": [
    {
     "data": {
      "text/plain": [
       "[1, 5, 7, 10, 12, 15, 16, 17]"
      ]
     },
     "execution_count": 98,
     "metadata": {},
     "output_type": "execute_result"
    }
   ],
   "source": [
    "t.inorder()"
   ]
  },
  {
   "cell_type": "code",
   "execution_count": 99,
   "id": "afd6ffe0",
   "metadata": {},
   "outputs": [
    {
     "data": {
      "text/plain": [
       "[10, 5, 1, 7, 15, 12, 17, 16]"
      ]
     },
     "execution_count": 99,
     "metadata": {},
     "output_type": "execute_result"
    }
   ],
   "source": [
    "t.preorder()"
   ]
  },
  {
   "cell_type": "code",
   "execution_count": 100,
   "id": "9e29df9a",
   "metadata": {},
   "outputs": [
    {
     "data": {
      "text/plain": [
       "[1, 7, 5, 12, 16, 17, 15, 10]"
      ]
     },
     "execution_count": 100,
     "metadata": {},
     "output_type": "execute_result"
    }
   ],
   "source": [
    "t.postorder()"
   ]
  },
  {
   "cell_type": "code",
   "execution_count": 101,
   "id": "7603931b",
   "metadata": {},
   "outputs": [
    {
     "data": {
      "text/plain": [
       "[10, 5, 15, 1, 7, 12, 17, 16]"
      ]
     },
     "execution_count": 101,
     "metadata": {},
     "output_type": "execute_result"
    }
   ],
   "source": [
    "t.level_order()"
   ]
  },
  {
   "cell_type": "code",
   "execution_count": 102,
   "id": "9057a918",
   "metadata": {},
   "outputs": [
    {
     "name": "stdout",
     "output_type": "stream",
     "text": [
      "17\n"
     ]
    }
   ],
   "source": [
    "t.max()"
   ]
  },
  {
   "cell_type": "code",
   "execution_count": 103,
   "id": "728e60f4",
   "metadata": {},
   "outputs": [
    {
     "data": {
      "text/plain": [
       "3"
      ]
     },
     "execution_count": 103,
     "metadata": {},
     "output_type": "execute_result"
    }
   ],
   "source": [
    "t.height()"
   ]
  },
  {
   "cell_type": "code",
   "execution_count": 104,
   "id": "01104c4a",
   "metadata": {},
   "outputs": [
    {
     "data": {
      "text/plain": [
       "<__main__.Node at 0x7fa0b8035400>"
      ]
     },
     "execution_count": 104,
     "metadata": {},
     "output_type": "execute_result"
    }
   ],
   "source": [
    "t.delete(10)"
   ]
  },
  {
   "cell_type": "code",
   "execution_count": 105,
   "id": "579c4f57",
   "metadata": {},
   "outputs": [
    {
     "data": {
      "text/plain": [
       "[12, 5, 15, 1, 7, 17, 16]"
      ]
     },
     "execution_count": 105,
     "metadata": {},
     "output_type": "execute_result"
    }
   ],
   "source": [
    "t.level_order()"
   ]
  },
  {
   "cell_type": "code",
   "execution_count": 13,
   "id": "abd1706e",
   "metadata": {},
   "outputs": [
    {
     "data": {
      "text/plain": [
       "6"
      ]
     },
     "execution_count": 13,
     "metadata": {},
     "output_type": "execute_result"
    }
   ],
   "source": [
    "t.diameter()"
   ]
  },
  {
   "cell_type": "code",
   "execution_count": 14,
   "id": "89920a19",
   "metadata": {},
   "outputs": [],
   "source": [
    "t2 = BST (Node (10, None, Node(15)))"
   ]
  },
  {
   "cell_type": "code",
   "execution_count": 15,
   "id": "e6b6084a",
   "metadata": {},
   "outputs": [],
   "source": [
    "t2.insert(12)"
   ]
  },
  {
   "cell_type": "code",
   "execution_count": 16,
   "id": "3543e7ec",
   "metadata": {},
   "outputs": [],
   "source": [
    "t2.insert(16)\n",
    "t2.insert(9)\n",
    "t2.insert(11)"
   ]
  },
  {
   "cell_type": "code",
   "execution_count": 17,
   "id": "3380a28d",
   "metadata": {},
   "outputs": [
    {
     "data": {
      "text/plain": [
       "[[10], [9, 15], [12, 16], [11]]"
      ]
     },
     "execution_count": 17,
     "metadata": {},
     "output_type": "execute_result"
    }
   ],
   "source": [
    "t2.level_order()"
   ]
  },
  {
   "cell_type": "code",
   "execution_count": 18,
   "id": "afcbe896",
   "metadata": {},
   "outputs": [
    {
     "data": {
      "text/plain": [
       "[9, 10, 11, 12, 15, 16]"
      ]
     },
     "execution_count": 18,
     "metadata": {},
     "output_type": "execute_result"
    }
   ],
   "source": [
    "t2.inorder()"
   ]
  },
  {
   "cell_type": "code",
   "execution_count": 49,
   "id": "e4ac70e5",
   "metadata": {},
   "outputs": [],
   "source": [
    "t2.delete(15)"
   ]
  },
  {
   "cell_type": "code",
   "execution_count": null,
   "id": "edefedae",
   "metadata": {},
   "outputs": [],
   "source": []
  },
  {
   "cell_type": "code",
   "execution_count": null,
   "id": "adad9d6e",
   "metadata": {},
   "outputs": [],
   "source": []
  }
 ],
 "metadata": {
  "kernelspec": {
   "display_name": "Python 3 (ipykernel)",
   "language": "python",
   "name": "python3"
  },
  "language_info": {
   "codemirror_mode": {
    "name": "ipython",
    "version": 3
   },
   "file_extension": ".py",
   "mimetype": "text/x-python",
   "name": "python",
   "nbconvert_exporter": "python",
   "pygments_lexer": "ipython3",
   "version": "3.9.7"
  }
 },
 "nbformat": 4,
 "nbformat_minor": 5
}
