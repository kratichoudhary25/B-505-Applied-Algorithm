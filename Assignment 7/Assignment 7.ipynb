{
 "cells": [
  {
   "cell_type": "markdown",
   "id": "9f5ffb1c",
   "metadata": {},
   "source": [
    "# QUESTION 1"
   ]
  },
  {
   "cell_type": "markdown",
   "id": "94e98d8e",
   "metadata": {},
   "source": [
    "def additional_seats(k,h):\n",
    "    cap = 0\n",
    "    ans = 0\n",
    "\n",
    "    h = sorted(h, key=lambda x: x[0])\n",
    "    print(\"h: \",h)\n",
    "    h_max = max([item[1] for item in h])\n",
    "    print(\"h_max: \",h_max)\n",
    "    dest = 0\n",
    "\n",
    "    while dest != h_max:\n",
    "        for i in range(len(h)):\n",
    "            print(\"dest: \",dest)\n",
    "            print(\"cap: \",cap)\n",
    "            print(\"ans: \", ans)\n",
    "            \n",
    "            \n",
    "            if cap > k:\n",
    "                ans += 1\n",
    "                break\n",
    "                \n",
    "            if cap >=k:\n",
    "                cap = k\n",
    "            \n",
    "            if h[i][1] == dest:\n",
    "                cap -= 1\n",
    "              \n",
    "            cap += 1\n",
    "        dest+=1\n",
    "        \n",
    "    return ans-k\n",
    "#I was trying this approach but didn't know how to limit the capacity to k and still not update the value of ans if the TA who checks this assignment can help with that please add a suggestion in the feedback. Thank you."
   ]
  },
  {
   "cell_type": "code",
   "execution_count": 16,
   "id": "11d76d50",
   "metadata": {},
   "outputs": [],
   "source": [
    "import heapq\n",
    "\n",
    "# k = destacity of vehicle\n",
    "# h = list of n values(each a list of size 2) where h[i][0] indicates the pickup\n",
    "# point where the ith person intends to get on the vehicle \n",
    "# and h[i][1] indicates the destination point where\n",
    "# the ith person intends to get off the vehicle\n",
    "\n",
    "def additional_seats(k,h):    \n",
    "    h = sorted(h, key=lambda x: x[0])\n",
    "    #print(\"h: \",h)\n",
    "    drop = [h[0][1]]\n",
    "    #print(\"drop: \", drop)        \n",
    "    for cust in h[1:]:  \n",
    "     #   print(\"cust: \", cust)\n",
    "        dest = drop[0]\n",
    "      #  print(\"dest: \", dest)\n",
    "        if cust[0] >= dest:\n",
    "            heapq.heapreplace(drop, cust[1])\n",
    "        \n",
    "        else:\n",
    "            heapq.heappush(drop, cust[1])\n",
    "       # print(\"drop: \", drop)\n",
    "        #print(\"dest: \", dest)\n",
    "        \n",
    "    if len(drop)-k < 0:\n",
    "        return 0\n",
    "    else:  \n",
    "        return len(drop)-k"
   ]
  },
  {
   "cell_type": "code",
   "execution_count": 17,
   "id": "343c06e0",
   "metadata": {},
   "outputs": [
    {
     "data": {
      "text/plain": [
       "1"
      ]
     },
     "execution_count": 17,
     "metadata": {},
     "output_type": "execute_result"
    }
   ],
   "source": [
    "h = [[0,2],[1,2],[0,3],[2,3]]\n",
    "k = 2\n",
    "additional_seats(k,h)    "
   ]
  },
  {
   "cell_type": "code",
   "execution_count": 3,
   "id": "ddd4c6e5",
   "metadata": {},
   "outputs": [
    {
     "data": {
      "text/plain": [
       "0"
      ]
     },
     "execution_count": 3,
     "metadata": {},
     "output_type": "execute_result"
    }
   ],
   "source": [
    "additional_seats(3, [[8,10],[2,4],[7,11]])"
   ]
  },
  {
   "cell_type": "markdown",
   "id": "3c123362",
   "metadata": {},
   "source": [
    "# QUESTION 2"
   ]
  },
  {
   "cell_type": "code",
   "execution_count": 4,
   "id": "84eb0a74",
   "metadata": {},
   "outputs": [],
   "source": [
    "import heapq\n",
    "import sys\n",
    "def minimum_range(lists):\n",
    "    heap = [(x[0],i,0) for i, x in enumerate(lists)]\n",
    "    heapq.heapify(heap)\n",
    "   # print(heap)\n",
    "    \n",
    "    curr_max = max(row[0] for row in lists)\n",
    "    rnge = (-sys.maxsize, sys.maxsize)\n",
    "    while heap:\n",
    "        # pop curr_min from the heap\n",
    "        curr_min, l, min_index = heapq.heappop(heap)\n",
    "        #print(l)\n",
    "        # if the new range is smaller than current range, update current range\n",
    "        if curr_max - curr_min < rnge[1] - rnge[0]:\n",
    "            rnge = (curr_min, curr_max)\n",
    "\n",
    "        if min_index + 1 == len(lists[l]):\n",
    "            return rnge\n",
    "\n",
    "        # increment the min_index and update curr_max\n",
    "        nextv = (lists[l][min_index +1])\n",
    "        curr_max = max(nextv, curr_max)\n",
    "\n",
    "        # push the new element in the heap\n",
    "        heapq.heappush(heap, (nextv, l, min_index+1))\n",
    "        \n",
    "    return rnge"
   ]
  },
  {
   "cell_type": "code",
   "execution_count": 5,
   "id": "5eaa4dd3",
   "metadata": {},
   "outputs": [
    {
     "data": {
      "text/plain": [
       "(4, 6)"
      ]
     },
     "execution_count": 5,
     "metadata": {},
     "output_type": "execute_result"
    }
   ],
   "source": [
    "minimum_range([[ 3, 6, 8, 10, 15],[ 1, 5, 12 ],[ 4, 8, 15, 16 ],[ 2, 6 ]])"
   ]
  },
  {
   "cell_type": "code",
   "execution_count": 6,
   "id": "bb5d8d7b",
   "metadata": {},
   "outputs": [
    {
     "data": {
      "text/plain": [
       "(4, 7)"
      ]
     },
     "execution_count": 6,
     "metadata": {},
     "output_type": "execute_result"
    }
   ],
   "source": [
    "minimum_range([[ 2, 3, 4, 8, 10, 15 ],[ 1, 5, 12 ],[ 7, 8, 15, 16 ],[ 3, 6 ]])"
   ]
  },
  {
   "cell_type": "code",
   "execution_count": null,
   "id": "1354e3d3",
   "metadata": {},
   "outputs": [],
   "source": []
  },
  {
   "cell_type": "markdown",
   "id": "c38a40d1",
   "metadata": {},
   "source": [
    "# QUESTION 3"
   ]
  },
  {
   "cell_type": "code",
   "execution_count": 7,
   "id": "6f4ea80d",
   "metadata": {},
   "outputs": [],
   "source": [
    "import heapq\n",
    "from collections import Counter\n",
    "def encode(s):\n",
    "\n",
    "    counts = Counter(s)\n",
    "    #print(counts)\n",
    "    \n",
    "    # List of list storing frequencies and characters\n",
    "    freq = []\n",
    "    \n",
    "    # dictionary storing huffman codes of each character\n",
    "    codes = {}\n",
    "    \n",
    "    for k,v in counts.items():\n",
    "        freq.append([v,k])\n",
    "    #print(freq)\n",
    "    \n",
    "    # Converting into heap\n",
    "    heapq.heapify(freq)\n",
    "    \n",
    "    \n",
    "    while len(freq) > 1 :\n",
    "\n",
    "        left_child = heapq.heappop(freq)\n",
    "        right_child = heapq.heappop(freq)\n",
    "    \n",
    "        for i in left_child[1]:\n",
    "            #print(\"left: \", i)\n",
    "            \n",
    "            if i not in codes:\n",
    "                codes[i] = \"0\"\n",
    "            else:\n",
    "                codes[i] += \"0\"\n",
    "           # print(codes)    \n",
    "        for j in right_child[1]:\n",
    "           # print(codes)\n",
    "            if j not in codes:\n",
    "                codes[j] = \"1\"\n",
    "            else:\n",
    "                codes[j] += \"1\"\n",
    "            \n",
    "        freqs = left_child[0] + right_child[0]\n",
    "       # print(freqs)\n",
    "        ch = left_child[1] + right_child[1]\n",
    "       # print(ch)\n",
    "        heapq.heappush(freq, [freqs, ch])\n",
    "    \n",
    "    #print(\"l: \",left_child)\n",
    "   # print(\"r: \",right_child)\n",
    "    \n",
    "    # Dictionary storing huffman codes for all characters\n",
    "    codes = { keys: values[::-1] for keys, values in codes.items() } \n",
    "    #print(codes)\n",
    "    \n",
    "    # String to store the complete huffman code for the input string\n",
    "    huff = ''\n",
    "\n",
    "    for j in range(len(s)):\n",
    "\n",
    "        for key,value in codes.items():\n",
    "\n",
    "            if s[j] == key :\n",
    "                huff += value\n",
    "\n",
    "    ans = (huff, codes)\n",
    "\n",
    "    return ans\n",
    "        \n",
    "def decode(s, d):\n",
    "\n",
    "    code_str = ''\n",
    "    result = ''\n",
    "\n",
    "    code_dict = { v:k for k,v in d.items()}\n",
    "   # print(code_dict)\n",
    "    for i in s:\n",
    "        code_str += i\n",
    "       # print(code_str)\n",
    "        if code_str in code_dict.keys():\n",
    "            result += code_dict[code_str]\n",
    "            code_str = ''\n",
    "\n",
    "    return result\n"
   ]
  },
  {
   "cell_type": "code",
   "execution_count": 8,
   "id": "4cfc2f3c",
   "metadata": {},
   "outputs": [
    {
     "data": {
      "text/plain": [
       "('001011', {'b': '10', 'c': '11', 'a': '0'})"
      ]
     },
     "execution_count": 8,
     "metadata": {},
     "output_type": "execute_result"
    }
   ],
   "source": [
    "encode('aabc')"
   ]
  },
  {
   "cell_type": "code",
   "execution_count": 9,
   "id": "b225e722",
   "metadata": {},
   "outputs": [
    {
     "data": {
      "text/plain": [
       "'aabc'"
      ]
     },
     "execution_count": 9,
     "metadata": {},
     "output_type": "execute_result"
    }
   ],
   "source": [
    "decode(*encode('aabc'))"
   ]
  },
  {
   "cell_type": "markdown",
   "id": "16acf8d3",
   "metadata": {},
   "source": [
    "# QUESTION 4"
   ]
  },
  {
   "cell_type": "code",
   "execution_count": 10,
   "id": "12077537",
   "metadata": {},
   "outputs": [],
   "source": [
    "import numpy as np\n",
    "def max_moves(nums: list) -> int:\n",
    "    mi = min(nums)\n",
    "    ma = max(nums)\n",
    "    maxmoves = 0\n",
    "    \n",
    "    #if np.count_nonzero(nums) <2:\n",
    "     #   return maxmoves\n",
    "    \n",
    "    #nums = [i for i in nums if i != 0]\n",
    "    \n",
    "    while len(nums)>=2:\n",
    "        i = nums.index(mi)\n",
    "      #  print(\"i: \", i)\n",
    "        if mi == ma:\n",
    "            j = nums.index(ma)+1\n",
    "        else:\n",
    "            j = nums.index(ma)\n",
    "      #  print(\"j: \", j)\n",
    "        nums[i] -= 1\n",
    "        nums[j] -= 1\n",
    "        maxmoves += 1\n",
    "        nums = [i for i in nums if i != 0]\n",
    "       # print(\"nums: \",nums)\n",
    "        if len(nums)==0:\n",
    "            break\n",
    "        mi = min(nums)\n",
    "        ma = max(nums)\n",
    "        \n",
    "            \n",
    "    \n",
    "    return maxmoves"
   ]
  },
  {
   "cell_type": "code",
   "execution_count": 11,
   "id": "21725761",
   "metadata": {},
   "outputs": [
    {
     "data": {
      "text/plain": [
       "7"
      ]
     },
     "execution_count": 11,
     "metadata": {},
     "output_type": "execute_result"
    }
   ],
   "source": [
    "max_moves([4,4,6])"
   ]
  },
  {
   "cell_type": "code",
   "execution_count": 12,
   "id": "1c7fcf8c",
   "metadata": {},
   "outputs": [
    {
     "data": {
      "text/plain": [
       "6"
      ]
     },
     "execution_count": 12,
     "metadata": {},
     "output_type": "execute_result"
    }
   ],
   "source": [
    "max_moves([2,4,6])"
   ]
  },
  {
   "cell_type": "code",
   "execution_count": 13,
   "id": "5aa8104c",
   "metadata": {},
   "outputs": [
    {
     "data": {
      "text/plain": [
       "6"
      ]
     },
     "execution_count": 13,
     "metadata": {},
     "output_type": "execute_result"
    }
   ],
   "source": [
    "max_moves([4,4,4])"
   ]
  },
  {
   "cell_type": "code",
   "execution_count": null,
   "id": "3cc36a2b",
   "metadata": {},
   "outputs": [],
   "source": []
  }
 ],
 "metadata": {
  "kernelspec": {
   "display_name": "Python 3 (ipykernel)",
   "language": "python",
   "name": "python3"
  },
  "language_info": {
   "codemirror_mode": {
    "name": "ipython",
    "version": 3
   },
   "file_extension": ".py",
   "mimetype": "text/x-python",
   "name": "python",
   "nbconvert_exporter": "python",
   "pygments_lexer": "ipython3",
   "version": "3.9.7"
  }
 },
 "nbformat": 4,
 "nbformat_minor": 5
}
